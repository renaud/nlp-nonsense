{
 "metadata": {
  "name": "",
  "signature": "sha256:08072d868d25660fdd1bf63d1805ffb73d340938615f614d05880859e4b3a43e"
 },
 "nbformat": 3,
 "nbformat_minor": 0,
 "worksheets": [
  {
   "cells": [
    {
     "cell_type": "code",
     "collapsed": false,
     "input": [
      "import sys, os, re, json\n",
      "import collections\n",
      "%pylab inline\n",
      "import pandas as pd"
     ],
     "language": "python",
     "metadata": {},
     "outputs": [
      {
       "output_type": "stream",
       "stream": "stdout",
       "text": [
        "Populating the interactive namespace from numpy and matplotlib\n"
       ]
      }
     ],
     "prompt_number": 1
    },
    {
     "cell_type": "code",
     "collapsed": false,
     "input": [
      "import data_utils\n",
      "reload(data_utils)\n",
      "\n",
      "import analysis\n",
      "reload(analysis)\n",
      "\n",
      "import classifier\n",
      "reload(classifier)"
     ],
     "language": "python",
     "metadata": {},
     "outputs": [
      {
       "metadata": {},
       "output_type": "pyout",
       "prompt_number": 34,
       "text": [
        "<module 'classifier' from 'classifier.py'>"
       ]
      }
     ],
     "prompt_number": 34
    },
    {
     "cell_type": "markdown",
     "metadata": {},
     "source": [
      "## Load data and generate features"
     ]
    },
    {
     "cell_type": "code",
     "collapsed": false,
     "input": [
      "datafile = \"data/annotations-5k/combined-5000.json\"\n",
      "# trainfile = \"data/mturk-prod.json.tagged.json\" # master\n",
      "dataset = data_utils.Dataset(datafile)"
     ],
     "language": "python",
     "metadata": {},
     "outputs": [
      {
       "output_type": "stream",
       "stream": "stdout",
       "text": [
        "4997 unambiguous labels\n",
        "873 sentences (17.47%)\n",
        "(4997, 19)"
       ]
      },
      {
       "output_type": "stream",
       "stream": "stdout",
       "text": [
        "\n"
       ]
      }
     ],
     "prompt_number": 19
    },
    {
     "cell_type": "code",
     "collapsed": false,
     "input": [
      "dataset.make_pos_features()\n",
      "dataset.to_sklearn(level=2, splitat=4000)\n",
      "\n",
      "dataset.train.preprocess()\n",
      "dataset.test.preprocess(dataset.train.transformer)"
     ],
     "language": "python",
     "metadata": {},
     "outputs": [
      {
       "output_type": "stream",
       "stream": "stdout",
       "text": [
        "X: (4997, 56)\n",
        "y: {0: '-OTHER-', 1: '-SENTENCE-'}\n",
        "Features: f_nchars, f_nwords, f_npunct, f_rpunct, f_ndigit, f_rdigit, f_nupper, f_rupper, f_nner, f_rner, f_sentence_pattern, f_pos_#, f_pos_$, f_pos_'', f_pos_,, f_pos_-LRB-, f_pos_-RRB-, f_pos_., f_pos_:, f_pos_CC, f_pos_CD, f_pos_DT, f_pos_EX, f_pos_FW, f_pos_IN, f_pos_JJ, f_pos_JJR, f_pos_JJS, f_pos_LS, f_pos_MD, f_pos_NN, f_pos_NNP, f_pos_NNPS, f_pos_NNS, f_pos_PDT, f_pos_POS, f_pos_PRP, f_pos_PRP$, f_pos_RB, f_pos_RBR, f_pos_RBS, f_pos_RP, f_pos_SYM, f_pos_TO, f_pos_UH, f_pos_VB, f_pos_VBD, f_pos_VBG, f_pos_VBN, f_pos_VBP, f_pos_VBZ, f_pos_WDT, f_pos_WP, f_pos_WP$, f_pos_WRB, f_pos_``\n"
       ]
      }
     ],
     "prompt_number": 22
    },
    {
     "cell_type": "markdown",
     "metadata": {},
     "source": [
      "# Test Classifiers"
     ]
    },
    {
     "cell_type": "code",
     "collapsed": false,
     "input": [
      "# Baseline heuristic\n",
      "hidx = [i for (i,f) in dataset.col_to_feature.items() if f == 'f_sentence_pattern'][0]\n",
      "ypred = dataset.train.X[:,hidx] >= 0\n",
      "y = dataset.train.y\n",
      "classifier.standard_scorefunc(y, ypred)"
     ],
     "language": "python",
     "metadata": {},
     "outputs": [
      {
       "metadata": {},
       "output_type": "pyout",
       "prompt_number": 23,
       "text": [
        "{'acc': 91.674999999999997,\n",
        " 'f1': 78.334417696811983,\n",
        " 'len': 4000,\n",
        " 'pre': 73.414634146341456,\n",
        " 'rec': 83.960948396094835}"
       ]
      }
     ],
     "prompt_number": 23
    },
    {
     "cell_type": "code",
     "collapsed": false,
     "input": [
      "import classifier\n",
      "reload(classifier)\n",
      "\n",
      "# Logistic experiment\n",
      "from sklearn.linear_model import LogisticRegression\n",
      "clf = LogisticRegression(penalty='l1', C=1000, intercept_scaling=1, \n",
      "                         class_weight='auto')\n",
      "param_grid = [{'C': [0.1,1,10,100,1000], \n",
      "               'penalty':['l1', 'l2']}]\n",
      "\n",
      "exp = classifier.ClassifierExperiment(clf, dataset.train.X, \n",
      "                                      dataset.train.y)\n",
      "exp.grid_search(param_grid, scoring='f1')\n",
      "res, stats = exp.eval_cv(eval_train=True)\n",
      "test_res = exp.eval(dataset.test.X, dataset.test.y)\n",
      "\n",
      "print \"Best features:\"\n",
      "for l,w in sorted(zip(dataset.col_to_feature.values(), exp.clfopt.best_estimator_.coef_[0]),\n",
      "                  key=lambda s: abs(s[1]), reverse=True)[:10]:\n",
      "    print \"%s : %.04f\" % (l.ljust(10),w)\n",
      "    \n",
      "for s in stats:\n",
      "    print \"== %s ==\" % s\n",
      "    display(stats[s])\n",
      "print \"== test ==\"\n",
      "display(test_res)\n",
      "\n",
      "clf_logistic = exp.clf"
     ],
     "language": "python",
     "metadata": {},
     "outputs": [
      {
       "output_type": "stream",
       "stream": "stdout",
       "text": [
        "Best params: {'penalty': 'l1', 'C': 100}\n",
        "Best score: 80.98%\n"
       ]
      },
      {
       "output_type": "stream",
       "stream": "stdout",
       "text": [
        "== train sets ==\n",
        "5-fold cv:\n",
        " len: 3200.00 +\\- 0.50\n",
        " acc: 93.47 +\\- 0.22\n",
        " pre: 76.03 +\\- 0.73\n",
        " rec: 92.92 +\\- 0.18\n",
        "  f1: 83.63 +\\- 0.47\n",
        "== dev sets ==\n",
        "5-fold cv:\n",
        " len: 800.00 +\\- 0.50\n",
        " acc: 92.30 +\\- 0.66\n",
        " pre: 73.21 +\\- 2.38\n",
        " rec: 90.94 +\\- 1.23\n",
        "  f1: 80.98 +\\- 1.08\n",
        "== test set ==\n",
        " acc: 94.38\n",
        "  f1: 83.63\n",
        " len: 997.00\n",
        " pre: 76.88\n",
        " rec: 91.67\n",
        "Best features:\n",
        "f_pos_:    : -2.0693\n",
        "f_nner     : 1.8895\n",
        "f_sentence_pattern : 1.3093\n",
        "f_pos_NNP  : -1.2906\n",
        "f_nchars   : 1.2538\n",
        "f_rner     : -0.7821\n",
        "f_pos_.    : 0.7298\n",
        "f_nwords   : -0.7121\n",
        "f_pos_VB   : 0.7113\n",
        "f_pos_VBP  : 0.6429\n",
        "== train ==\n"
       ]
      },
      {
       "html": [
        "<div style=\"max-height:1000px;max-width:1500px;overflow:auto;\">\n",
        "<table border=\"1\" class=\"dataframe\">\n",
        "  <thead>\n",
        "    <tr style=\"text-align: right;\">\n",
        "      <th></th>\n",
        "      <th>len</th>\n",
        "      <th>acc</th>\n",
        "      <th>pre</th>\n",
        "      <th>rec</th>\n",
        "      <th>f1</th>\n",
        "    </tr>\n",
        "  </thead>\n",
        "  <tbody>\n",
        "    <tr>\n",
        "      <th>mu</th>\n",
        "      <td> 3200</td>\n",
        "      <td> 93.474994</td>\n",
        "      <td> 76.033412</td>\n",
        "      <td> 92.921965</td>\n",
        "      <td> 83.628218</td>\n",
        "    </tr>\n",
        "    <tr>\n",
        "      <th>sigma</th>\n",
        "      <td>    1</td>\n",
        "      <td>  0.440663</td>\n",
        "      <td>  1.460515</td>\n",
        "      <td>  0.359634</td>\n",
        "      <td>  0.948471</td>\n",
        "    </tr>\n",
        "  </tbody>\n",
        "</table>\n",
        "</div>"
       ],
       "metadata": {},
       "output_type": "display_data",
       "text": [
        "        len        acc        pre        rec         f1\n",
        "mu     3200  93.474994  76.033412  92.921965  83.628218\n",
        "sigma     1   0.440663   1.460515   0.359634   0.948471"
       ]
      },
      {
       "output_type": "stream",
       "stream": "stdout",
       "text": [
        "== dev ==\n"
       ]
      },
      {
       "html": [
        "<div style=\"max-height:1000px;max-width:1500px;overflow:auto;\">\n",
        "<table border=\"1\" class=\"dataframe\">\n",
        "  <thead>\n",
        "    <tr style=\"text-align: right;\">\n",
        "      <th></th>\n",
        "      <th>len</th>\n",
        "      <th>acc</th>\n",
        "      <th>pre</th>\n",
        "      <th>rec</th>\n",
        "      <th>f1</th>\n",
        "    </tr>\n",
        "  </thead>\n",
        "  <tbody>\n",
        "    <tr>\n",
        "      <th>mu</th>\n",
        "      <td> 800</td>\n",
        "      <td> 92.300335</td>\n",
        "      <td> 73.214349</td>\n",
        "      <td> 90.935315</td>\n",
        "      <td> 80.983192</td>\n",
        "    </tr>\n",
        "    <tr>\n",
        "      <th>sigma</th>\n",
        "      <td>   1</td>\n",
        "      <td>  1.310719</td>\n",
        "      <td>  4.765781</td>\n",
        "      <td>  2.467851</td>\n",
        "      <td>  2.165936</td>\n",
        "    </tr>\n",
        "  </tbody>\n",
        "</table>\n",
        "</div>"
       ],
       "metadata": {},
       "output_type": "display_data",
       "text": [
        "       len        acc        pre        rec         f1\n",
        "mu     800  92.300335  73.214349  90.935315  80.983192\n",
        "sigma    1   1.310719   4.765781   2.467851   2.165936"
       ]
      },
      {
       "output_type": "stream",
       "stream": "stdout",
       "text": [
        "== test ==\n"
       ]
      },
      {
       "html": [
        "<div style=\"max-height:1000px;max-width:1500px;overflow:auto;\">\n",
        "<table border=\"1\" class=\"dataframe\">\n",
        "  <thead>\n",
        "    <tr style=\"text-align: right;\">\n",
        "      <th></th>\n",
        "      <th>len</th>\n",
        "      <th>acc</th>\n",
        "      <th>pre</th>\n",
        "      <th>rec</th>\n",
        "      <th>f1</th>\n",
        "    </tr>\n",
        "  </thead>\n",
        "  <tbody>\n",
        "    <tr>\n",
        "      <th>mu</th>\n",
        "      <td> 997</td>\n",
        "      <td> 94.383149</td>\n",
        "      <td> 76.88172</td>\n",
        "      <td> 91.666667</td>\n",
        "      <td> 83.625731</td>\n",
        "    </tr>\n",
        "  </tbody>\n",
        "</table>\n",
        "</div>"
       ],
       "metadata": {},
       "output_type": "display_data",
       "text": [
        "    len        acc       pre        rec         f1\n",
        "mu  997  94.383149  76.88172  91.666667  83.625731"
       ]
      }
     ],
     "prompt_number": 36
    },
    {
     "cell_type": "code",
     "collapsed": false,
     "input": [
      "import classifier\n",
      "reload(classifier)\n",
      "\n",
      "# Linear SVM Experiment\n",
      "from sklearn.svm import LinearSVC\n",
      "clf = LinearSVC(penalty='l1', C=1000, intercept_scaling=1, \n",
      "                class_weight='auto', dual=False)\n",
      "param_grid = [{'C': [0.001, 0.01, 0.1,1,10,100,1000], \n",
      "               'penalty':['l1', 'l2']}]\n",
      "\n",
      "# from sklearn.svm import SVC\n",
      "# clf = SVC(C=1000, class_weight='auto', probability=True)\n",
      "# param_grid = [{'C': [0.1,1,10,100,1000],\n",
      "#                'kernel': ['linear']}]\n",
      "\n",
      "exp = classifier.ClassifierExperiment(clf, dataset.train.X, \n",
      "                                      dataset.train.y)\n",
      "\n",
      "exp = classifier.ClassifierExperiment(clf, dataset.train.X, \n",
      "                                      dataset.train.y)\n",
      "exp.grid_search(param_grid, scoring='f1')\n",
      "res, stats = exp.eval_cv(eval_train=True)\n",
      "test_res = exp.eval(dataset.test.X, dataset.test.y)\n",
      "\n",
      "for s in stats:\n",
      "    print \"== %s ==\" % s\n",
      "    display(stats[s])\n",
      "print \"== test ==\"\n",
      "display(test_res)\n",
      "\n",
      "clf_lsvm = exp.clf"
     ],
     "language": "python",
     "metadata": {},
     "outputs": [
      {
       "output_type": "stream",
       "stream": "stdout",
       "text": [
        "Best params: {'penalty': 'l1', 'C': 10}\n",
        "Best score: 81.48%\n"
       ]
      },
      {
       "output_type": "stream",
       "stream": "stdout",
       "text": [
        "== train sets ==\n",
        "5-fold cv:\n",
        " len: 3200.00 +\\- 0.50\n",
        " acc: 93.58 +\\- 0.18\n",
        " pre: 76.48 +\\- 0.62\n",
        " rec: 92.68 +\\- 0.12\n",
        "  f1: 83.80 +\\- 0.38\n",
        "== dev sets ==\n",
        "5-fold cv:\n",
        " len: 800.00 +\\- 0.50\n",
        " acc: 92.58 +\\- 0.52\n",
        " pre: 74.09 +\\- 2.09\n",
        " rec: 90.80 +\\- 1.49\n",
        "  f1: 81.48 +\\- 0.89\n",
        "== test set ==\n",
        " acc: 94.28\n",
        "  f1: 83.38\n",
        " len: 997.00\n",
        " pre: 76.47\n",
        " rec: 91.67\n",
        "== train ==\n"
       ]
      },
      {
       "html": [
        "<div style=\"max-height:1000px;max-width:1500px;overflow:auto;\">\n",
        "<table border=\"1\" class=\"dataframe\">\n",
        "  <thead>\n",
        "    <tr style=\"text-align: right;\">\n",
        "      <th></th>\n",
        "      <th>len</th>\n",
        "      <th>acc</th>\n",
        "      <th>pre</th>\n",
        "      <th>rec</th>\n",
        "      <th>f1</th>\n",
        "    </tr>\n",
        "  </thead>\n",
        "  <tbody>\n",
        "    <tr>\n",
        "      <th>mu</th>\n",
        "      <td> 3200</td>\n",
        "      <td> 93.575019</td>\n",
        "      <td> 76.484080</td>\n",
        "      <td> 92.67788</td>\n",
        "      <td> 83.801312</td>\n",
        "    </tr>\n",
        "    <tr>\n",
        "      <th>sigma</th>\n",
        "      <td>    1</td>\n",
        "      <td>  0.360406</td>\n",
        "      <td>  1.247177</td>\n",
        "      <td>  0.24448</td>\n",
        "      <td>  0.755901</td>\n",
        "    </tr>\n",
        "  </tbody>\n",
        "</table>\n",
        "</div>"
       ],
       "metadata": {},
       "output_type": "display_data",
       "text": [
        "        len        acc        pre       rec         f1\n",
        "mu     3200  93.575019  76.484080  92.67788  83.801312\n",
        "sigma     1   0.360406   1.247177   0.24448   0.755901"
       ]
      },
      {
       "output_type": "stream",
       "stream": "stdout",
       "text": [
        "== dev ==\n"
       ]
      },
      {
       "html": [
        "<div style=\"max-height:1000px;max-width:1500px;overflow:auto;\">\n",
        "<table border=\"1\" class=\"dataframe\">\n",
        "  <thead>\n",
        "    <tr style=\"text-align: right;\">\n",
        "      <th></th>\n",
        "      <th>len</th>\n",
        "      <th>acc</th>\n",
        "      <th>pre</th>\n",
        "      <th>rec</th>\n",
        "      <th>f1</th>\n",
        "    </tr>\n",
        "  </thead>\n",
        "  <tbody>\n",
        "    <tr>\n",
        "      <th>mu</th>\n",
        "      <td> 800</td>\n",
        "      <td> 92.575054</td>\n",
        "      <td> 74.092693</td>\n",
        "      <td> 90.796426</td>\n",
        "      <td> 81.481590</td>\n",
        "    </tr>\n",
        "    <tr>\n",
        "      <th>sigma</th>\n",
        "      <td>   1</td>\n",
        "      <td>  1.032765</td>\n",
        "      <td>  4.181058</td>\n",
        "      <td>  2.976602</td>\n",
        "      <td>  1.789913</td>\n",
        "    </tr>\n",
        "  </tbody>\n",
        "</table>\n",
        "</div>"
       ],
       "metadata": {},
       "output_type": "display_data",
       "text": [
        "       len        acc        pre        rec         f1\n",
        "mu     800  92.575054  74.092693  90.796426  81.481590\n",
        "sigma    1   1.032765   4.181058   2.976602   1.789913"
       ]
      },
      {
       "output_type": "stream",
       "stream": "stdout",
       "text": [
        "== test ==\n"
       ]
      },
      {
       "html": [
        "<div style=\"max-height:1000px;max-width:1500px;overflow:auto;\">\n",
        "<table border=\"1\" class=\"dataframe\">\n",
        "  <thead>\n",
        "    <tr style=\"text-align: right;\">\n",
        "      <th></th>\n",
        "      <th>len</th>\n",
        "      <th>acc</th>\n",
        "      <th>pre</th>\n",
        "      <th>rec</th>\n",
        "      <th>f1</th>\n",
        "    </tr>\n",
        "  </thead>\n",
        "  <tbody>\n",
        "    <tr>\n",
        "      <th>mu</th>\n",
        "      <td> 997</td>\n",
        "      <td> 94.282849</td>\n",
        "      <td> 76.470588</td>\n",
        "      <td> 91.666667</td>\n",
        "      <td> 83.381924</td>\n",
        "    </tr>\n",
        "  </tbody>\n",
        "</table>\n",
        "</div>"
       ],
       "metadata": {},
       "output_type": "display_data",
       "text": [
        "    len        acc        pre        rec         f1\n",
        "mu  997  94.282849  76.470588  91.666667  83.381924"
       ]
      }
     ],
     "prompt_number": 37
    },
    {
     "cell_type": "code",
     "collapsed": false,
     "input": [
      "import classifier\n",
      "reload(classifier)\n",
      "\n",
      "# Non-linear SVM Experiment\n",
      "from sklearn.svm import SVC\n",
      "clf = SVC(C=1000, class_weight='auto', probability=True)\n",
      "param_grid = [{'C': [0.1,1,10,100,1000],\n",
      "               'gamma': [0.0, 0.001, 0.01, 0.1],\n",
      "               'kernel': ['rbf']}]\n",
      "\n",
      "exp = classifier.ClassifierExperiment(clf, dataset.train.X, \n",
      "                                      dataset.train.y)\n",
      "exp.grid_search(param_grid, scoring='f1')\n",
      "res, stats = exp.eval_cv(eval_train=True)\n",
      "test_res = exp.eval(dataset.test.X, dataset.test.y)\n",
      "\n",
      "# Check support vector size\n",
      "exp.clf.fit(dataset.train.X,dataset.train.y)\n",
      "exp.clf.n_support_\n",
      "\n",
      "for s in stats:\n",
      "    print \"== %s ==\" % s\n",
      "    display(stats[s])\n",
      "print \"== test ==\"\n",
      "display(test_res)\n",
      "\n",
      "clf_rsvm = exp.clf"
     ],
     "language": "python",
     "metadata": {},
     "outputs": [
      {
       "output_type": "stream",
       "stream": "stdout",
       "text": [
        "Best params: {'kernel': 'rbf', 'C': 100, 'gamma': 0.001}\n",
        "Best score: 81.94%\n"
       ]
      },
      {
       "output_type": "stream",
       "stream": "stdout",
       "text": [
        "== train sets ==\n",
        "5-fold cv:\n",
        " len: 3200.00 +\\- 0.50\n",
        " acc: 95.09 +\\- 0.09\n",
        " pre: 81.67 +\\- 0.33\n",
        " rec: 93.65 +\\- 0.16\n",
        "  f1: 87.25 +\\- 0.21\n",
        "== dev sets ==\n",
        "5-fold cv:\n",
        " len: 800.00 +\\- 0.50\n",
        " acc: 93.05 +\\- 0.46\n",
        " pre: 76.75 +\\- 1.42\n",
        " rec: 88.01 +\\- 1.93\n",
        "  f1: 81.94 +\\- 1.18\n",
        "== test set =="
       ]
      },
      {
       "output_type": "stream",
       "stream": "stdout",
       "text": [
        "\n",
        " acc: 94.58\n",
        "  f1: 83.64\n",
        " len: 997.00\n",
        " pre: 79.31\n",
        " rec: 88.46\n",
        "== train =="
       ]
      },
      {
       "output_type": "stream",
       "stream": "stdout",
       "text": [
        "\n"
       ]
      },
      {
       "html": [
        "<div style=\"max-height:1000px;max-width:1500px;overflow:auto;\">\n",
        "<table border=\"1\" class=\"dataframe\">\n",
        "  <thead>\n",
        "    <tr style=\"text-align: right;\">\n",
        "      <th></th>\n",
        "      <th>len</th>\n",
        "      <th>acc</th>\n",
        "      <th>pre</th>\n",
        "      <th>rec</th>\n",
        "      <th>f1</th>\n",
        "    </tr>\n",
        "  </thead>\n",
        "  <tbody>\n",
        "    <tr>\n",
        "      <th>mu</th>\n",
        "      <td> 3200</td>\n",
        "      <td> 95.093771</td>\n",
        "      <td> 81.670438</td>\n",
        "      <td> 93.654098</td>\n",
        "      <td> 87.251597</td>\n",
        "    </tr>\n",
        "    <tr>\n",
        "      <th>sigma</th>\n",
        "      <td>    1</td>\n",
        "      <td>  0.182859</td>\n",
        "      <td>  0.656776</td>\n",
        "      <td>  0.316864</td>\n",
        "      <td>  0.425604</td>\n",
        "    </tr>\n",
        "  </tbody>\n",
        "</table>\n",
        "</div>"
       ],
       "metadata": {},
       "output_type": "display_data",
       "text": [
        "        len        acc        pre        rec         f1\n",
        "mu     3200  95.093771  81.670438  93.654098  87.251597\n",
        "sigma     1   0.182859   0.656776   0.316864   0.425604"
       ]
      },
      {
       "output_type": "stream",
       "stream": "stdout",
       "text": [
        "== dev ==\n"
       ]
      },
      {
       "html": [
        "<div style=\"max-height:1000px;max-width:1500px;overflow:auto;\">\n",
        "<table border=\"1\" class=\"dataframe\">\n",
        "  <thead>\n",
        "    <tr style=\"text-align: right;\">\n",
        "      <th></th>\n",
        "      <th>len</th>\n",
        "      <th>acc</th>\n",
        "      <th>pre</th>\n",
        "      <th>rec</th>\n",
        "      <th>f1</th>\n",
        "    </tr>\n",
        "  </thead>\n",
        "  <tbody>\n",
        "    <tr>\n",
        "      <th>mu</th>\n",
        "      <td> 800</td>\n",
        "      <td> 93.049991</td>\n",
        "      <td> 76.746489</td>\n",
        "      <td> 88.007964</td>\n",
        "      <td> 81.943072</td>\n",
        "    </tr>\n",
        "    <tr>\n",
        "      <th>sigma</th>\n",
        "      <td>   1</td>\n",
        "      <td>  0.921918</td>\n",
        "      <td>  2.839437</td>\n",
        "      <td>  3.861678</td>\n",
        "      <td>  2.366067</td>\n",
        "    </tr>\n",
        "  </tbody>\n",
        "</table>\n",
        "</div>"
       ],
       "metadata": {},
       "output_type": "display_data",
       "text": [
        "       len        acc        pre        rec         f1\n",
        "mu     800  93.049991  76.746489  88.007964  81.943072\n",
        "sigma    1   0.921918   2.839437   3.861678   2.366067"
       ]
      },
      {
       "output_type": "stream",
       "stream": "stdout",
       "text": [
        "== test ==\n"
       ]
      },
      {
       "html": [
        "<div style=\"max-height:1000px;max-width:1500px;overflow:auto;\">\n",
        "<table border=\"1\" class=\"dataframe\">\n",
        "  <thead>\n",
        "    <tr style=\"text-align: right;\">\n",
        "      <th></th>\n",
        "      <th>len</th>\n",
        "      <th>acc</th>\n",
        "      <th>pre</th>\n",
        "      <th>rec</th>\n",
        "      <th>f1</th>\n",
        "    </tr>\n",
        "  </thead>\n",
        "  <tbody>\n",
        "    <tr>\n",
        "      <th>mu</th>\n",
        "      <td> 997</td>\n",
        "      <td> 94.583751</td>\n",
        "      <td> 79.310345</td>\n",
        "      <td> 88.461538</td>\n",
        "      <td> 83.636364</td>\n",
        "    </tr>\n",
        "  </tbody>\n",
        "</table>\n",
        "</div>"
       ],
       "metadata": {},
       "output_type": "display_data",
       "text": [
        "    len        acc        pre        rec         f1\n",
        "mu  997  94.583751  79.310345  88.461538  83.636364"
       ]
      }
     ],
     "prompt_number": 38
    },
    {
     "cell_type": "code",
     "collapsed": false,
     "input": [
      "import classifier\n",
      "reload(classifier)\n",
      "\n",
      "# Random Forest Experiment\n",
      "from sklearn.ensemble import RandomForestClassifier\n",
      "clf = RandomForestClassifier(n_estimators=10, max_depth=10)\n",
      "param_grid = [{'n_estimators': [10,50,100,200,400],\n",
      "               'max_depth': [None,5,10,20,40]}]\n",
      "\n",
      "exp = classifier.ClassifierExperiment(clf, dataset.train.X, \n",
      "                                      dataset.train.y)\n",
      "exp.grid_search(param_grid, scoring='f1')\n",
      "res, stats = exp.eval_cv(eval_train=True)\n",
      "test_res = exp.eval(dataset.test.X, dataset.test.y)\n",
      "\n",
      "for s in stats:\n",
      "    print \"== %s ==\" % s\n",
      "    display(stats[s])\n",
      "print \"== test ==\"\n",
      "display(test_res)\n",
      "\n",
      "clf_rf = exp.clf"
     ],
     "language": "python",
     "metadata": {},
     "outputs": [
      {
       "output_type": "stream",
       "stream": "stdout",
       "text": [
        "Best params: {'n_estimators': 100, 'max_depth': 20}\n",
        "Best score: 86.98%\n"
       ]
      },
      {
       "output_type": "stream",
       "stream": "stdout",
       "text": [
        "== train sets ==\n",
        "5-fold cv:\n",
        " len: 3200.00 +\\- 0.50\n",
        " acc: 99.93 +\\- 0.01\n",
        " pre: 99.93 +\\- 0.05\n",
        " rec: 99.69 +\\- 0.07\n",
        "  f1: 99.81 +\\- 0.04\n",
        "== dev sets ==\n",
        "5-fold cv:\n",
        " len: 800.00 +\\- 0.50\n",
        " acc: 95.50 +\\- 0.54\n",
        " pre: 89.68 +\\- 2.06\n",
        " rec: 84.80 +\\- 2.19\n",
        "  f1: 87.09 +\\- 1.54\n",
        "== test set ==\n",
        " acc: 96.49\n",
        "  f1: 88.37\n",
        " len: 997.00\n",
        " pre: 91.72\n",
        " rec: 85.26\n",
        "== train ==\n"
       ]
      },
      {
       "html": [
        "<div style=\"max-height:1000px;max-width:1500px;overflow:auto;\">\n",
        "<table border=\"1\" class=\"dataframe\">\n",
        "  <thead>\n",
        "    <tr style=\"text-align: right;\">\n",
        "      <th></th>\n",
        "      <th>len</th>\n",
        "      <th>acc</th>\n",
        "      <th>pre</th>\n",
        "      <th>rec</th>\n",
        "      <th>f1</th>\n",
        "    </tr>\n",
        "  </thead>\n",
        "  <tbody>\n",
        "    <tr>\n",
        "      <th>mu</th>\n",
        "      <td> 3200</td>\n",
        "      <td> 99.931246</td>\n",
        "      <td> 99.930192</td>\n",
        "      <td> 99.686168</td>\n",
        "      <td> 99.807951</td>\n",
        "    </tr>\n",
        "    <tr>\n",
        "      <th>sigma</th>\n",
        "      <td>    1</td>\n",
        "      <td>  0.026156</td>\n",
        "      <td>  0.095589</td>\n",
        "      <td>  0.145833</td>\n",
        "      <td>  0.073144</td>\n",
        "    </tr>\n",
        "  </tbody>\n",
        "</table>\n",
        "</div>"
       ],
       "metadata": {},
       "output_type": "display_data",
       "text": [
        "        len        acc        pre        rec         f1\n",
        "mu     3200  99.931246  99.930192  99.686168  99.807951\n",
        "sigma     1   0.026156   0.095589   0.145833   0.073144"
       ]
      },
      {
       "output_type": "stream",
       "stream": "stdout",
       "text": [
        "== dev ==\n"
       ]
      },
      {
       "html": [
        "<div style=\"max-height:1000px;max-width:1500px;overflow:auto;\">\n",
        "<table border=\"1\" class=\"dataframe\">\n",
        "  <thead>\n",
        "    <tr style=\"text-align: right;\">\n",
        "      <th></th>\n",
        "      <th>len</th>\n",
        "      <th>acc</th>\n",
        "      <th>pre</th>\n",
        "      <th>rec</th>\n",
        "      <th>f1</th>\n",
        "    </tr>\n",
        "  </thead>\n",
        "  <tbody>\n",
        "    <tr>\n",
        "      <th>mu</th>\n",
        "      <td> 800</td>\n",
        "      <td> 95.499400</td>\n",
        "      <td> 89.676570</td>\n",
        "      <td> 84.802836</td>\n",
        "      <td> 87.094320</td>\n",
        "    </tr>\n",
        "    <tr>\n",
        "      <th>sigma</th>\n",
        "      <td>   1</td>\n",
        "      <td>  1.089965</td>\n",
        "      <td>  4.111219</td>\n",
        "      <td>  4.378653</td>\n",
        "      <td>  3.071458</td>\n",
        "    </tr>\n",
        "  </tbody>\n",
        "</table>\n",
        "</div>"
       ],
       "metadata": {},
       "output_type": "display_data",
       "text": [
        "       len        acc        pre        rec         f1\n",
        "mu     800  95.499400  89.676570  84.802836  87.094320\n",
        "sigma    1   1.089965   4.111219   4.378653   3.071458"
       ]
      },
      {
       "output_type": "stream",
       "stream": "stdout",
       "text": [
        "== test ==\n"
       ]
      },
      {
       "html": [
        "<div style=\"max-height:1000px;max-width:1500px;overflow:auto;\">\n",
        "<table border=\"1\" class=\"dataframe\">\n",
        "  <thead>\n",
        "    <tr style=\"text-align: right;\">\n",
        "      <th></th>\n",
        "      <th>len</th>\n",
        "      <th>acc</th>\n",
        "      <th>pre</th>\n",
        "      <th>rec</th>\n",
        "      <th>f1</th>\n",
        "    </tr>\n",
        "  </thead>\n",
        "  <tbody>\n",
        "    <tr>\n",
        "      <th>mu</th>\n",
        "      <td> 997</td>\n",
        "      <td> 96.489468</td>\n",
        "      <td> 91.724138</td>\n",
        "      <td> 85.25641</td>\n",
        "      <td> 88.372093</td>\n",
        "    </tr>\n",
        "  </tbody>\n",
        "</table>\n",
        "</div>"
       ],
       "metadata": {},
       "output_type": "display_data",
       "text": [
        "    len        acc        pre       rec         f1\n",
        "mu  997  96.489468  91.724138  85.25641  88.372093"
       ]
      }
     ],
     "prompt_number": 39
    },
    {
     "cell_type": "code",
     "collapsed": false,
     "input": [
      "import classifier\n",
      "reload(classifier)\n",
      "\n",
      "# Boosting Experiment\n",
      "from sklearn.ensemble import AdaBoostClassifier\n",
      "clf = AdaBoostClassifier(n_estimators=10)\n",
      "param_grid = [{'n_estimators': [10,50,100,200]}]\n",
      "\n",
      "exp = classifier.ClassifierExperiment(clf, dataset.train.X, \n",
      "                                      dataset.train.y)\n",
      "exp.grid_search(param_grid, scoring='f1')\n",
      "res, stats = exp.eval_cv(eval_train=True)\n",
      "test_res = exp.eval(dataset.test.X, dataset.test.y)\n",
      "\n",
      "for s in stats:\n",
      "    print \"== %s ==\" % s\n",
      "    display(stats[s])\n",
      "print \"== test ==\"\n",
      "display(test_res)\n",
      "\n",
      "clf_ab = exp.clf"
     ],
     "language": "python",
     "metadata": {},
     "outputs": [
      {
       "output_type": "stream",
       "stream": "stdout",
       "text": [
        "Best params: {'n_estimators': 200}\n",
        "Best score: 82.68%\n"
       ]
      },
      {
       "output_type": "stream",
       "stream": "stdout",
       "text": [
        "== train sets ==\n",
        "5-fold cv:\n",
        " len: 3200.00 +\\- 0.50\n",
        " acc: 96.52 +\\- 0.18\n",
        " pre: 91.31 +\\- 0.51\n",
        " rec: 89.05 +\\- 0.61\n",
        "  f1: 90.17 +\\- 0.50\n",
        "== dev sets ==\n",
        "5-fold cv:\n",
        " len: 800.00 +\\- 0.50\n",
        " acc: 93.85 +\\- 0.29\n",
        " pre: 83.33 +\\- 0.52\n",
        " rec: 82.15 +\\- 2.17\n",
        "  f1: 82.68 +\\- 1.01\n",
        "== test set =="
       ]
      },
      {
       "output_type": "stream",
       "stream": "stdout",
       "text": [
        "\n",
        " acc: 95.89\n",
        "  f1: 86.82\n",
        " len: 997.00\n",
        " pre: 87.10\n",
        " rec: 86.54\n",
        "== train ==\n"
       ]
      },
      {
       "html": [
        "<div style=\"max-height:1000px;max-width:1500px;overflow:auto;\">\n",
        "<table border=\"1\" class=\"dataframe\">\n",
        "  <thead>\n",
        "    <tr style=\"text-align: right;\">\n",
        "      <th></th>\n",
        "      <th>len</th>\n",
        "      <th>acc</th>\n",
        "      <th>pre</th>\n",
        "      <th>rec</th>\n",
        "      <th>f1</th>\n",
        "    </tr>\n",
        "  </thead>\n",
        "  <tbody>\n",
        "    <tr>\n",
        "      <th>mu</th>\n",
        "      <td> 3200</td>\n",
        "      <td> 96.518746</td>\n",
        "      <td> 91.314271</td>\n",
        "      <td> 89.052119</td>\n",
        "      <td> 90.166723</td>\n",
        "    </tr>\n",
        "    <tr>\n",
        "      <th>sigma</th>\n",
        "      <td>    1</td>\n",
        "      <td>  0.351220</td>\n",
        "      <td>  1.014747</td>\n",
        "      <td>  1.222843</td>\n",
        "      <td>  1.007208</td>\n",
        "    </tr>\n",
        "  </tbody>\n",
        "</table>\n",
        "</div>"
       ],
       "metadata": {},
       "output_type": "display_data",
       "text": [
        "        len        acc        pre        rec         f1\n",
        "mu     3200  96.518746  91.314271  89.052119  90.166723\n",
        "sigma     1   0.351220   1.014747   1.222843   1.007208"
       ]
      },
      {
       "output_type": "stream",
       "stream": "stdout",
       "text": [
        "== dev ==\n"
       ]
      },
      {
       "html": [
        "<div style=\"max-height:1000px;max-width:1500px;overflow:auto;\">\n",
        "<table border=\"1\" class=\"dataframe\">\n",
        "  <thead>\n",
        "    <tr style=\"text-align: right;\">\n",
        "      <th></th>\n",
        "      <th>len</th>\n",
        "      <th>acc</th>\n",
        "      <th>pre</th>\n",
        "      <th>rec</th>\n",
        "      <th>f1</th>\n",
        "    </tr>\n",
        "  </thead>\n",
        "  <tbody>\n",
        "    <tr>\n",
        "      <th>mu</th>\n",
        "      <td> 800</td>\n",
        "      <td> 93.849742</td>\n",
        "      <td> 83.331530</td>\n",
        "      <td> 82.151321</td>\n",
        "      <td> 82.682634</td>\n",
        "    </tr>\n",
        "    <tr>\n",
        "      <th>sigma</th>\n",
        "      <td>   1</td>\n",
        "      <td>  0.579175</td>\n",
        "      <td>  1.030083</td>\n",
        "      <td>  4.335243</td>\n",
        "      <td>  2.017400</td>\n",
        "    </tr>\n",
        "  </tbody>\n",
        "</table>\n",
        "</div>"
       ],
       "metadata": {},
       "output_type": "display_data",
       "text": [
        "       len        acc        pre        rec         f1\n",
        "mu     800  93.849742  83.331530  82.151321  82.682634\n",
        "sigma    1   0.579175   1.030083   4.335243   2.017400"
       ]
      },
      {
       "output_type": "stream",
       "stream": "stdout",
       "text": [
        "== test ==\n"
       ]
      },
      {
       "html": [
        "<div style=\"max-height:1000px;max-width:1500px;overflow:auto;\">\n",
        "<table border=\"1\" class=\"dataframe\">\n",
        "  <thead>\n",
        "    <tr style=\"text-align: right;\">\n",
        "      <th></th>\n",
        "      <th>len</th>\n",
        "      <th>acc</th>\n",
        "      <th>pre</th>\n",
        "      <th>rec</th>\n",
        "      <th>f1</th>\n",
        "    </tr>\n",
        "  </thead>\n",
        "  <tbody>\n",
        "    <tr>\n",
        "      <th>mu</th>\n",
        "      <td> 997</td>\n",
        "      <td> 95.887663</td>\n",
        "      <td> 87.096774</td>\n",
        "      <td> 86.538462</td>\n",
        "      <td> 86.81672</td>\n",
        "    </tr>\n",
        "  </tbody>\n",
        "</table>\n",
        "</div>"
       ],
       "metadata": {},
       "output_type": "display_data",
       "text": [
        "    len        acc        pre        rec        f1\n",
        "mu  997  95.887663  87.096774  86.538462  86.81672"
       ]
      }
     ],
     "prompt_number": 40
    },
    {
     "cell_type": "code",
     "collapsed": false,
     "input": [
      "y = dataset.test.y\n",
      "ypred = clf_rf.predict(dataset.test.X)\n",
      "classifier.standard_scorefunc(y, ypred)"
     ],
     "language": "python",
     "metadata": {},
     "outputs": [
      {
       "metadata": {},
       "output_type": "pyout",
       "prompt_number": 41,
       "text": [
        "{'acc': 96.589769307923774,\n",
        " 'f1': 88.888888888888857,\n",
        " 'len': 997,\n",
        " 'pre': 90.666666666666657,\n",
        " 'rec': 87.179487179487182}"
       ]
      }
     ],
     "prompt_number": 41
    },
    {
     "cell_type": "code",
     "collapsed": false,
     "input": [
      "from sklearn import metrics\n",
      "y = dataset.test.y\n",
      "\n",
      "yproba = clf_logistic.predict_proba(dataset.test.X)\n",
      "P, R, T = metrics.precision_recall_curve(y, yproba[:,1])\n",
      "plot(R,P, label=\"Logistic\")\n",
      "\n",
      "# yproba = clf_lsvm.predict_proba(dataset.test.X)\n",
      "# P, R, T = metrics.precision_recall_curve(y, yproba[:,1])\n",
      "# plot(R,P, label=\"Linear SVM\")\n",
      "\n",
      "yproba = clf_rsvm.predict_proba(dataset.test.X)\n",
      "P, R, T = metrics.precision_recall_curve(y, yproba[:,1])\n",
      "plot(R,P, label=\"RBF SVM\")\n",
      "\n",
      "yproba = clf_rf.predict_proba(dataset.test.X)\n",
      "P, R, T = metrics.precision_recall_curve(y, yproba[:,1])\n",
      "plot(R,P, label=\"Random Forest\")\n",
      "\n",
      "yproba = clf_ab.predict_proba(dataset.test.X)\n",
      "P, R, T = metrics.precision_recall_curve(y, yproba[:,1])\n",
      "plot(R,P, label=\"AdaBoost\")\n",
      "\n",
      "# axhline(0.9, linestyle='--', linewidth=1.0, color='k', alpha=0.75)\n",
      "\n",
      "grid('on')\n",
      "xlim(0,1)\n",
      "ylim(0,1)\n",
      "ylabel(\"Precision\")\n",
      "xlabel(\"Recall\")\n",
      "legend(loc='lower left', fancybox=True, framealpha=0.5)"
     ],
     "language": "python",
     "metadata": {},
     "outputs": [
      {
       "metadata": {},
       "output_type": "pyout",
       "prompt_number": 42,
       "text": [
        "<matplotlib.legend.Legend at 0x7f6d53310d50>"
       ]
      },
      {
       "metadata": {},
       "output_type": "display_data",
       "png": "[encoded data removed]",
       "text": [
        "<matplotlib.figure.Figure at 0x7f6d53386dd0>"
       ]
      }
     ],
     "prompt_number": 42
    },
    {
     "cell_type": "code",
     "collapsed": false,
     "input": [
      "erridx = dataset.test.Xy_idx[y != ypred]\n",
      "dataset.df_master.loc[erridx].__TEXT__\n",
      "\n",
      "for i,(yt, yp) in enumerate(zip(y,ypred)):\n",
      "    if yt != yp:\n",
      "        print \"TRUE: %s\" % yt\n",
      "        print \"PRED: %s\" % yp\n",
      "        print \"TEXT: %s\" % dataset.df_master.loc[dataset.test.Xy_idx[i]].__TEXT__"
     ],
     "language": "python",
     "metadata": {},
     "outputs": [
      {
       "output_type": "stream",
       "stream": "stdout",
       "text": [
        "TRUE: 1\n",
        "PRED: 0\n",
        "TEXT: Its a 2 man job BTW.\n",
        "TRUE: 0\n",
        "PRED: 1\n",
        "TEXT: Played a video hobby, go on a amble, go on a drive, played a computer spectator sport, etc.\n",
        "TRUE: 1\n",
        "PRED: 0\n",
        "TEXT: A multi-disciplinary design consultancy urgently require design consultants/junior designers for their London office\n",
        "TRUE: 1\n",
        "PRED: 0\n",
        "TEXT: Think like they think\n",
        "TRUE: 1\n",
        "PRED: 0\n",
        "TEXT: LINKS For more information on Central America, please see: International Energy Data Base Central America Daily - Up-to-date news on Central America World Energy News Central America Headlines\n",
        "TRUE: 1\n",
        "PRED: 0\n",
        "TEXT: If you want to try something on your own, try this:\n",
        "TRUE: 1\n",
        "PRED: 0\n",
        "TEXT: co-produced by Danger Mouse ... that's cool!\n",
        "TRUE: 1\n",
        "PRED: 0\n",
        "TEXT: ahh, so not a cut to shape and slap job then.\n",
        "TRUE: 1\n",
        "PRED: 0\n",
        "TEXT: Try one of the ReverbNation Channels\n",
        "TRUE: 1\n",
        "PRED: 0\n",
        "TEXT: Label is resistant to these solvents: Xylene, IPA, DMSO, Ethanol, Toluene.\n",
        "TRUE: 1\n",
        "PRED: 0\n",
        "TEXT: CCleaner 2.24.1010 Freeware CCleaner 2.24.1010 Freeware | System Optimizer | RAR | 5MBCCleaner is a freeware system optimization, privacy and cleaning tool.\n",
        "TRUE: 1\n",
        "PRED: 0\n",
        "TEXT: Sign in for personalised recommendations\n",
        "TRUE: 1\n",
        "PRED: 0\n",
        "TEXT: Chantix...it's pills.\n",
        "TRUE: 0\n",
        "PRED: 1\n",
        "TEXT: Ensures access independently from the parking lot of the facility until the emergency exit.\n",
        "TRUE: 0\n",
        "PRED: 1\n",
        "TEXT: Not your country?\n",
        "TRUE: 0\n",
        "PRED: 1\n",
        "TEXT: Already an user?\n",
        "TRUE: 1\n",
        "PRED: 0\n",
        "TEXT: If you don't make it to the store by the deadline, we'll cancel the order and refund your method of payment\n",
        "TRUE: 0\n",
        "PRED: 1\n",
        "TEXT: Get ahead of y...\n",
        "TRUE: 1\n",
        "PRED: 0\n",
        "TEXT: She's nice, might get annoying ...\n",
        "TRUE: 0\n",
        "PRED: 1\n",
        "TEXT: Get All Of This Free Now !\n",
        "TRUE: 0\n",
        "PRED: 1\n",
        "TEXT: Microsoft's network certifications for another article.\n",
        "TRUE: 1\n",
        "PRED: 0\n",
        "TEXT: Hey, Sands of Time was good.\n",
        "TRUE: 1\n",
        "PRED: 0\n",
        "TEXT: They really simplified the process -Heather, NC\n",
        "TRUE: 0\n",
        "PRED: 1\n",
        "TEXT: Bothered?\n",
        "TRUE: 1\n",
        "PRED: 0\n",
        "TEXT: Not that much, says Henry\n",
        "TRUE: 0\n",
        "PRED: 1\n",
        "TEXT: Great service.\n",
        "TRUE: 0\n",
        "PRED: 1\n",
        "TEXT: New to USFreeads?\n",
        "TRUE: 0\n",
        "PRED: 1\n",
        "TEXT: Azumah Resources announced on Thursday morning that it had raised $30\u00a0million through a placement of 50\u00a0million shares at 60\u00a2.\n",
        "TRUE: 1\n",
        "PRED: 0\n",
        "TEXT: Be prepared for year's busiest boating weekend\n",
        "TRUE: 0\n",
        "PRED: 1\n",
        "TEXT: Tully Sullivan doesn't remember her past and certainly doesn't believe that she is a dragon. \u00a0Mother, yes but dragon? \u00a0No way. \u00a0So she loses control of herself once every few months and turns metal to gold. \u00a0Everybody has their quirks. \u00a0To top everything off she is suppose to be the mate of the notorious leader of the Light Dragons. \u00a0How much worse can a girl's\n",
        "TRUE: 0\n",
        "PRED: 1\n",
        "TEXT: Aisling Grey is juggling being a demon lord, a Guardian, and a wyvern's mate, even though she's keeping her distance from said wyvern, Drake, these days.\n",
        "TRUE: 1\n",
        "PRED: 0\n",
        "TEXT: > I am a trades person\n",
        "TRUE: 1\n",
        "PRED: 0\n",
        "TEXT: The dangers of having a non-secure wireless access-point are:\n",
        "TRUE: 0\n",
        "PRED: 1\n",
        "TEXT: Login or Register to comment!\n"
       ]
      }
     ],
     "prompt_number": 43
    },
    {
     "cell_type": "code",
     "collapsed": false,
     "input": [],
     "language": "python",
     "metadata": {},
     "outputs": [],
     "prompt_number": 8
    }
   ],
   "metadata": {}
  }
 ]
}