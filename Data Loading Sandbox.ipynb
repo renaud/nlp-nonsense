{
 "metadata": {
  "name": "",
  "signature": "sha256:2f78272663279c53e106b66a7e3b2b0c01517e6d20ab4d95adb5a5daf9d4830b"
 },
 "nbformat": 3,
 "nbformat_minor": 0,
 "worksheets": [
  {
   "cells": [
    {
     "cell_type": "code",
     "collapsed": false,
     "input": [
      "import sys, os, re, json\n",
      "import collections\n",
      "%pylab inline\n",
      "import pandas as pd"
     ],
     "language": "python",
     "metadata": {},
     "outputs": [
      {
       "output_type": "stream",
       "stream": "stdout",
       "text": [
        "Populating the interactive namespace from numpy and matplotlib\n"
       ]
      }
     ],
     "prompt_number": 1
    },
    {
     "cell_type": "code",
     "collapsed": false,
     "input": [
      "import data_utils\n",
      "reload(data_utils)\n",
      "\n",
      "import analysis\n",
      "reload(analysis)\n",
      "\n",
      "import classifier\n",
      "reload(classifier)"
     ],
     "language": "python",
     "metadata": {},
     "outputs": [
      {
       "metadata": {},
       "output_type": "pyout",
       "prompt_number": 8,
       "text": [
        "<module 'classifier' from 'classifier.pyc'>"
       ]
      }
     ],
     "prompt_number": 8
    },
    {
     "cell_type": "code",
     "collapsed": false,
     "input": [
      "infile = \"data/mturk-prod.train\"\n",
      "df = data_utils.load_annotated(infile)\n",
      "\n",
      "# Restrict to unambiguous labels\n",
      "nunamb = len(df[df.__LABEL__.notnull()])\n",
      "print \"%d unambiguous labels\" % nunamb\n",
      "nsentence = len(df[df.__LABEL_BIN__ == \"-SENTENCE-\"])\n",
      "print \"%d sentences (%.02f%%)\" % (nsentence, 100*nsentence/(1.0*nunamb))\n",
      "\n",
      "df = data_utils.make_basic_features(df)\n",
      "print df.shape\n",
      "for c in df.columns:\n",
      "    print c"
     ],
     "language": "python",
     "metadata": {},
     "outputs": [
      {
       "output_type": "stream",
       "stream": "stdout",
       "text": [
        "5306 unambiguous labels\n",
        "1884 sentences (35.51%)\n",
        "(9000, 17)"
       ]
      },
      {
       "output_type": "stream",
       "stream": "stdout",
       "text": [
        "\n",
        "__LABEL__\n",
        "__TEXT__\n",
        "lemma\n",
        "ner\n",
        "pos\n",
        "word\n",
        "__LABELS__\n",
        "__LABEL_BIN__\n",
        "f_nchars\n",
        "f_nwords\n",
        "f_npunct\n",
        "f_rpunct\n",
        "f_ndigit\n",
        "f_rdigit\n",
        "f_nner\n",
        "f_rner\n",
        "f_sentence_pattern\n"
       ]
      }
     ],
     "prompt_number": 3
    },
    {
     "cell_type": "code",
     "collapsed": false,
     "input": [
      "pdf = data_utils.get_pos_counts(df)\n",
      "# display(pdf.head())\n",
      "print pdf.columns\n",
      "\n",
      "# Normalize by row\n",
      "pdf_norm = pdf.divide(pdf.sum(axis=0))\n",
      "\n",
      "pdf_fc = data_utils.get_pos_counts(df, firstchar_only=True)\n",
      "# display(pdf_fc.head())\n",
      "print pdf_fc.columns"
     ],
     "language": "python",
     "metadata": {},
     "outputs": [
      {
       "output_type": "stream",
       "stream": "stdout",
       "text": [
        "Index([u'f_pos_#', u'f_pos_$', u'f_pos_''', u'f_pos_,', u'f_pos_-LRB-', u'f_pos_-RRB-', u'f_pos_.', u'f_pos_:', u'f_pos_CC', u'f_pos_CD', u'f_pos_DT', u'f_pos_EX', u'f_pos_FW', u'f_pos_IN', u'f_pos_JJ', u'f_pos_JJR', u'f_pos_JJS', u'f_pos_LS', u'f_pos_MD', u'f_pos_NN', u'f_pos_NNP', u'f_pos_NNPS', u'f_pos_NNS', u'f_pos_PDT', u'f_pos_POS', u'f_pos_PRP', u'f_pos_PRP$', u'f_pos_RB', u'f_pos_RBR', u'f_pos_RBS', u'f_pos_RP', u'f_pos_SYM', u'f_pos_TO', u'f_pos_UH', u'f_pos_VB', u'f_pos_VBD', u'f_pos_VBG', u'f_pos_VBN', u'f_pos_VBP', u'f_pos_VBZ', u'f_pos_WDT', u'f_pos_WP', u'f_pos_WP$', u'f_pos_WRB', u'f_pos_``'], dtype='object')\n",
        "Index([u'f_pos_#', u'f_pos_$', u'f_pos_'', u'f_pos_,', u'f_pos_-', u'f_pos_.', u'f_pos_:', u'f_pos_C', u'f_pos_D', u'f_pos_E', u'f_pos_F', u'f_pos_I', u'f_pos_J', u'f_pos_L', u'f_pos_M', u'f_pos_N', u'f_pos_P', u'f_pos_R', u'f_pos_S', u'f_pos_T', u'f_pos_U', u'f_pos_V', u'f_pos_W', u'f_pos_`'], dtype='object')"
       ]
      },
      {
       "output_type": "stream",
       "stream": "stdout",
       "text": [
        "\n"
       ]
      }
     ],
     "prompt_number": 24
    },
    {
     "cell_type": "code",
     "collapsed": false,
     "input": [],
     "language": "python",
     "metadata": {},
     "outputs": []
    },
    {
     "cell_type": "code",
     "collapsed": false,
     "input": [
      "X, y, int_to_label, col_to_feature = data_utils.dataframe_to_xy(df, r\"f_.*\", label_col=\"__LABEL_BIN__\")\n",
      "print X.shape"
     ],
     "language": "python",
     "metadata": {},
     "outputs": [
      {
       "output_type": "stream",
       "stream": "stdout",
       "text": [
        "(5306, 9)\n"
       ]
      }
     ],
     "prompt_number": 48
    },
    {
     "cell_type": "code",
     "collapsed": false,
     "input": [
      "# Multiclass (OvA) Logistic Regression\n",
      "# note: NOT a true MaxEnt multinomial multiclass\n",
      "from sklearn.linear_model import LogisticRegression\n",
      "clf = LogisticRegression(penalty='l2', intercept_scaling=1, \n",
      "                         class_weight='auto')\n",
      "%time clf.fit(X,y)\n",
      "pred = clf.predict(X)"
     ],
     "language": "python",
     "metadata": {},
     "outputs": [
      {
       "output_type": "stream",
       "stream": "stdout",
       "text": [
        "CPU times: user 2.27 ms, sys: 137 \u00b5s, total: 2.41 ms\n",
        "Wall time: 2.15 ms\n"
       ]
      }
     ],
     "prompt_number": 47
    },
    {
     "cell_type": "code",
     "collapsed": false,
     "input": [
      "cm = classifier.evaluate_multiclass(y, pred, int_to_label)"
     ],
     "language": "python",
     "metadata": {},
     "outputs": [
      {
       "output_type": "stream",
       "stream": "stdout",
       "text": [
        "           | -   - |\n",
        "           | N   S |\n",
        "           | O   E |\n",
        "           | N   N |\n",
        "           | S - T |\n",
        "           | E P E |\n",
        "           | N O N |\n",
        "           | S R C |\n",
        "           | E N E |\n",
        "           | - - - |\n",
        "-----------+-------+\n",
        "-NONSENSE- |<3>2 1 |\n",
        "    -PORN- | 2<4>. |\n",
        "-SENTENCE- | . .<2>|\n",
        "-----------+-------+\n",
        "(row = reference; col = test)\n",
        "\n",
        "Accuracy: 64.29%\n"
       ]
      }
     ],
     "prompt_number": 50
    },
    {
     "cell_type": "code",
     "collapsed": false,
     "input": [
      "df.from_records?"
     ],
     "language": "python",
     "metadata": {},
     "outputs": [],
     "prompt_number": 82
    },
    {
     "cell_type": "code",
     "collapsed": false,
     "input": [],
     "language": "python",
     "metadata": {},
     "outputs": []
    }
   ],
   "metadata": {}
  }
 ]
}