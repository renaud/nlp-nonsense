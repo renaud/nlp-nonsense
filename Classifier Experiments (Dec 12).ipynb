{
 "metadata": {
  "name": "",
  "signature": "sha256:54952ce4206a4bf4cf58442d502ada2d9dc5bb58930c0255bdade564d34ad8b6"
 },
 "nbformat": 3,
 "nbformat_minor": 0,
 "worksheets": [
  {
   "cells": [
    {
     "cell_type": "code",
     "collapsed": false,
     "input": [
      "import sys, os, re, json\n",
      "import collections\n",
      "%pylab inline\n",
      "import pandas as pd"
     ],
     "language": "python",
     "metadata": {},
     "outputs": [
      {
       "output_type": "stream",
       "stream": "stdout",
       "text": [
        "Populating the interactive namespace from numpy and matplotlib\n"
       ]
      }
     ],
     "prompt_number": 1
    },
    {
     "cell_type": "code",
     "collapsed": false,
     "input": [
      "import data_utils\n",
      "reload(data_utils)\n",
      "\n",
      "import analysis\n",
      "reload(analysis)\n",
      "\n",
      "import classifier\n",
      "reload(classifier)"
     ],
     "language": "python",
     "metadata": {},
     "outputs": [
      {
       "metadata": {},
       "output_type": "pyout",
       "prompt_number": 2,
       "text": [
        "<module 'classifier' from 'classifier.pyc'>"
       ]
      }
     ],
     "prompt_number": 2
    },
    {
     "cell_type": "markdown",
     "metadata": {},
     "source": [
      "## Load data and generate features"
     ]
    },
    {
     "cell_type": "code",
     "collapsed": false,
     "input": [
      "datafile = \"data/annotations-5k/combined-5000.json\"\n",
      "# datafile = \"data/mturk-prod-lm.json.tagged.json\"\n",
      "# datafile = \"data/mturk-prod.json.tagged.json\" # master\n",
      "dataset = data_utils.Dataset(datafile)"
     ],
     "language": "python",
     "metadata": {},
     "outputs": [
      {
       "output_type": "stream",
       "stream": "stdout",
       "text": [
        "4997 unambiguous labels\n",
        "873 sentences (17.47%)\n",
        "(4997, 19)"
       ]
      },
      {
       "output_type": "stream",
       "stream": "stdout",
       "text": [
        "\n"
       ]
      }
     ],
     "prompt_number": 3
    },
    {
     "cell_type": "code",
     "collapsed": false,
     "input": [
      "len(dataset.df_master)"
     ],
     "language": "python",
     "metadata": {},
     "outputs": [
      {
       "metadata": {},
       "output_type": "pyout",
       "prompt_number": 4,
       "text": [
        "4997"
       ]
      }
     ],
     "prompt_number": 4
    },
    {
     "cell_type": "code",
     "collapsed": false,
     "input": [
      "import itertools\n",
      "# ls = collections.Counter(itertools.chain.from_iterable(dataset.df_master.__LABELS__))\n",
      "ls = collections.Counter(dataset.df_master.__LABEL__)\n",
      "norm = 1.0*sum(v for k,v in ls.items() if not k == None)\n",
      "ls = {k:v/norm for k,v in ls.items() if not k == None}\n",
      "for k,v in sorted(ls.items()):\n",
      "    print \"%10s: %.02f%%\" % (k, 100*v)"
     ],
     "language": "python",
     "metadata": {},
     "outputs": [
      {
       "output_type": "stream",
       "stream": "stdout",
       "text": [
        "-FRAGMENT-: 31.50%\n",
        "    -NONE-: 0.74%\n",
        "-NONSENSE-: 50.29%\n",
        "-SENTENCE-: 17.47%\n"
       ]
      }
     ],
     "prompt_number": 5
    },
    {
     "cell_type": "code",
     "collapsed": false,
     "input": [
      "dataset.make_pos_features()\n",
      "dataset.to_sklearn(level=3, splitat=4000)\n",
      "\n",
      "dataset.train.preprocess()\n",
      "dataset.test.preprocess(dataset.train.transformer)"
     ],
     "language": "python",
     "metadata": {},
     "outputs": [
      {
       "output_type": "stream",
       "stream": "stdout",
       "text": [
        "X: (4997, 146)\n",
        "y: {0: '-OTHER-', 1: '-SENTENCE-'}\n",
        "Features: f_nchars, f_nwords, f_npunct, f_rpunct, f_ndigit, f_rdigit, f_nupper, f_rupper, f_nner, f_rner, f_sentence_pattern, f_pos_#, f_pos_$, f_pos_'', f_pos_,, f_pos_-LRB-, f_pos_-RRB-, f_pos_., f_pos_:, f_pos_CC, f_pos_CD, f_pos_DT, f_pos_EX, f_pos_FW, f_pos_IN, f_pos_JJ, f_pos_JJR, f_pos_JJS, f_pos_LS, f_pos_MD, f_pos_NN, f_pos_NNP, f_pos_NNPS, f_pos_NNS, f_pos_PDT, f_pos_POS, f_pos_PRP, f_pos_PRP$, f_pos_RB, f_pos_RBR, f_pos_RBS, f_pos_RP, f_pos_SYM, f_pos_TO, f_pos_UH, f_pos_VB, f_pos_VBD, f_pos_VBG, f_pos_VBN, f_pos_VBP, f_pos_VBZ, f_pos_WDT, f_pos_WP, f_pos_WP$, f_pos_WRB, f_pos_``, f_pos_begin_#, f_pos_begin_$, f_pos_begin_'', f_pos_begin_,, f_pos_begin_-LRB-, f_pos_begin_-RRB-, f_pos_begin_., f_pos_begin_:, f_pos_begin_CC, f_pos_begin_CD, f_pos_begin_DT, f_pos_begin_EX, f_pos_begin_FW, f_pos_begin_IN, f_pos_begin_JJ, f_pos_begin_JJR, f_pos_begin_JJS, f_pos_begin_LS, f_pos_begin_MD, f_pos_begin_NN, f_pos_begin_NNP, f_pos_begin_NNPS, f_pos_begin_NNS, f_pos_begin_PDT, f_pos_begin_POS, f_pos_begin_PRP, f_pos_begin_PRP$, f_pos_begin_RB, f_pos_begin_RBR, f_pos_begin_RBS, f_pos_begin_RP, f_pos_begin_SYM, f_pos_begin_TO, f_pos_begin_UH, f_pos_begin_VB, f_pos_begin_VBD, f_pos_begin_VBG, f_pos_begin_VBN, f_pos_begin_VBP, f_pos_begin_VBZ, f_pos_begin_WDT, f_pos_begin_WP, f_pos_begin_WP$, f_pos_begin_WRB, f_pos_begin_``, f_pos_end_#, f_pos_end_$, f_pos_end_'', f_pos_end_,, f_pos_end_-LRB-, f_pos_end_-RRB-, f_pos_end_., f_pos_end_:, f_pos_end_CC, f_pos_end_CD, f_pos_end_DT, f_pos_end_EX, f_pos_end_FW, f_pos_end_IN, f_pos_end_JJ, f_pos_end_JJR, f_pos_end_JJS, f_pos_end_LS, f_pos_end_MD, f_pos_end_NN, f_pos_end_NNP, f_pos_end_NNPS, f_pos_end_NNS, f_pos_end_PDT, f_pos_end_POS, f_pos_end_PRP, f_pos_end_PRP$, f_pos_end_RB, f_pos_end_RBR, f_pos_end_RBS, f_pos_end_RP, f_pos_end_SYM, f_pos_end_TO, f_pos_end_UH, f_pos_end_VB, f_pos_end_VBD, f_pos_end_VBG, f_pos_end_VBN, f_pos_end_VBP, f_pos_end_VBZ, f_pos_end_WDT, f_pos_end_WP, f_pos_end_WP$, f_pos_end_WRB, f_pos_end_``\n"
       ]
      }
     ],
     "prompt_number": 6
    },
    {
     "cell_type": "markdown",
     "metadata": {},
     "source": [
      "# Test Classifiers"
     ]
    },
    {
     "cell_type": "code",
     "collapsed": false,
     "input": [
      "# source = dataset.train\n",
      "source = dataset.test\n",
      "\n",
      "# Baseline heuristic\n",
      "hidx = [i for (i,f) in dataset.col_to_feature.items() if f == 'f_sentence_pattern'][0]\n",
      "ypred = source.X[:,hidx] >= 0\n",
      "y = source.y\n",
      "res = classifier.standard_scorefunc(y, ypred)\n",
      "display(res)\n",
      "\n",
      "R_baseline = res['rec']\n",
      "P_baseline = res['pre']"
     ],
     "language": "python",
     "metadata": {},
     "outputs": [
      {
       "metadata": {},
       "output_type": "display_data",
       "text": [
        "{'acc': 94.583751253761278,\n",
        " 'f1': 83.734939759036138,\n",
        " 'len': 997,\n",
        " 'pre': 78.977272727272734,\n",
        " 'rec': 89.102564102564102}"
       ]
      }
     ],
     "prompt_number": 9
    },
    {
     "cell_type": "code",
     "collapsed": false,
     "input": [
      "import classifier\n",
      "reload(classifier)\n",
      "\n",
      "# Logistic experiment\n",
      "from sklearn.linear_model import LogisticRegression\n",
      "clf = LogisticRegression(penalty='l1', C=1000, intercept_scaling=1, \n",
      "                         class_weight='auto')\n",
      "param_grid = [{'C': [0.1,1,10,100,1000], \n",
      "               'penalty':['l1', 'l2']}]\n",
      "\n",
      "exp = classifier.ClassifierExperiment(clf, dataset.train.X, \n",
      "                                      dataset.train.y)\n",
      "exp.grid_search(param_grid, scoring='f1')\n",
      "%time res, stats = exp.eval_cv(eval_train=True)\n",
      "test_res = exp.eval(dataset.test.X, dataset.test.y)\n",
      "\n",
      "print \"Best features:\"\n",
      "for l,w in sorted(zip(dataset.col_to_feature.values(), exp.clfopt.best_estimator_.coef_[0]),\n",
      "                  key=lambda s: abs(s[1]), reverse=True)[:10]:\n",
      "    print \"%s : %.04f\" % (l.ljust(10),w)\n",
      "    \n",
      "for s in stats:\n",
      "    print \"== %s ==\" % s\n",
      "    display(stats[s])\n",
      "print \"== test ==\"\n",
      "display(test_res)\n",
      "\n",
      "clf_logistic = exp.clf"
     ],
     "language": "python",
     "metadata": {},
     "outputs": [
      {
       "output_type": "stream",
       "stream": "stdout",
       "text": [
        "Best params: {'penalty': 'l1', 'C': 1}\n",
        "Best score: 80.20%\n"
       ]
      },
      {
       "output_type": "stream",
       "stream": "stdout",
       "text": [
        "== train sets ==\n",
        "5-fold cv:\n",
        " len: 3200.00 +\\- 0.50\n",
        " acc: 93.75 +\\- 0.10\n",
        " pre: 76.66 +\\- 0.37\n",
        " rec: 93.65 +\\- 0.14\n",
        "  f1: 84.31 +\\- 0.20\n",
        "== dev sets ==\n",
        "5-fold cv:\n",
        " len: 800.00 +\\- 0.50\n",
        " acc: 91.98 +\\- 0.66\n",
        " pre: 72.60 +\\- 2.67\n",
        " rec: 90.10 +\\- 1.94\n",
        "  f1: 80.20 +\\- 0.97\n",
        "CPU times: user 52.3 ms, sys: 66.1 ms, total: 118 ms\n",
        "Wall time: 329 ms\n",
        "== test set ==\n",
        " acc: 94.78\n",
        "  f1: 84.71\n",
        " len: 997.00\n",
        " pre: 78.26\n",
        " rec: 92.31\n",
        "Best features:\n",
        "f_pos_:    : -1.7431\n",
        "f_sentence_pattern : 1.3866\n",
        "f_nner     : 1.3824\n",
        "f_pos_NNP  : -0.8334\n",
        "f_pos_CD   : -0.6614\n",
        "f_pos_.    : 0.6505\n",
        "f_rpunct   : -0.5949\n",
        "f_pos_VBZ  : 0.5691\n",
        "f_pos_VBD  : 0.5455\n",
        "f_pos_VBP  : 0.5032\n",
        "== train ==\n"
       ]
      },
      {
       "html": [
        "<div style=\"max-height:1000px;max-width:1500px;overflow:auto;\">\n",
        "<table border=\"1\" class=\"dataframe\">\n",
        "  <thead>\n",
        "    <tr style=\"text-align: right;\">\n",
        "      <th></th>\n",
        "      <th>len</th>\n",
        "      <th>acc</th>\n",
        "      <th>pre</th>\n",
        "      <th>rec</th>\n",
        "      <th>f1</th>\n",
        "    </tr>\n",
        "  </thead>\n",
        "  <tbody>\n",
        "    <tr>\n",
        "      <th>mu</th>\n",
        "      <td> 3200</td>\n",
        "      <td> 93.749996</td>\n",
        "      <td> 76.662250</td>\n",
        "      <td> 93.653915</td>\n",
        "      <td> 84.308254</td>\n",
        "    </tr>\n",
        "    <tr>\n",
        "      <th>sigma</th>\n",
        "      <td>    1</td>\n",
        "      <td>  0.199032</td>\n",
        "      <td>  0.743554</td>\n",
        "      <td>  0.270312</td>\n",
        "      <td>  0.400580</td>\n",
        "    </tr>\n",
        "  </tbody>\n",
        "</table>\n",
        "</div>"
       ],
       "metadata": {},
       "output_type": "display_data",
       "text": [
        "        len        acc        pre        rec         f1\n",
        "mu     3200  93.749996  76.662250  93.653915  84.308254\n",
        "sigma     1   0.199032   0.743554   0.270312   0.400580"
       ]
      },
      {
       "output_type": "stream",
       "stream": "stdout",
       "text": [
        "== dev ==\n"
       ]
      },
      {
       "html": [
        "<div style=\"max-height:1000px;max-width:1500px;overflow:auto;\">\n",
        "<table border=\"1\" class=\"dataframe\">\n",
        "  <thead>\n",
        "    <tr style=\"text-align: right;\">\n",
        "      <th></th>\n",
        "      <th>len</th>\n",
        "      <th>acc</th>\n",
        "      <th>pre</th>\n",
        "      <th>rec</th>\n",
        "      <th>f1</th>\n",
        "    </tr>\n",
        "  </thead>\n",
        "  <tbody>\n",
        "    <tr>\n",
        "      <th>mu</th>\n",
        "      <td> 800</td>\n",
        "      <td> 91.975584</td>\n",
        "      <td> 72.603291</td>\n",
        "      <td> 90.098096</td>\n",
        "      <td> 80.198511</td>\n",
        "    </tr>\n",
        "    <tr>\n",
        "      <th>sigma</th>\n",
        "      <td>   1</td>\n",
        "      <td>  1.311379</td>\n",
        "      <td>  5.347906</td>\n",
        "      <td>  3.872832</td>\n",
        "      <td>  1.936942</td>\n",
        "    </tr>\n",
        "  </tbody>\n",
        "</table>\n",
        "</div>"
       ],
       "metadata": {},
       "output_type": "display_data",
       "text": [
        "       len        acc        pre        rec         f1\n",
        "mu     800  91.975584  72.603291  90.098096  80.198511\n",
        "sigma    1   1.311379   5.347906   3.872832   1.936942"
       ]
      },
      {
       "output_type": "stream",
       "stream": "stdout",
       "text": [
        "== test ==\n"
       ]
      },
      {
       "html": [
        "<div style=\"max-height:1000px;max-width:1500px;overflow:auto;\">\n",
        "<table border=\"1\" class=\"dataframe\">\n",
        "  <thead>\n",
        "    <tr style=\"text-align: right;\">\n",
        "      <th></th>\n",
        "      <th>len</th>\n",
        "      <th>acc</th>\n",
        "      <th>pre</th>\n",
        "      <th>rec</th>\n",
        "      <th>f1</th>\n",
        "    </tr>\n",
        "  </thead>\n",
        "  <tbody>\n",
        "    <tr>\n",
        "      <th>mu</th>\n",
        "      <td> 997</td>\n",
        "      <td> 94.784353</td>\n",
        "      <td> 78.26087</td>\n",
        "      <td> 92.307692</td>\n",
        "      <td> 84.705882</td>\n",
        "    </tr>\n",
        "  </tbody>\n",
        "</table>\n",
        "</div>"
       ],
       "metadata": {},
       "output_type": "display_data",
       "text": [
        "    len        acc       pre        rec         f1\n",
        "mu  997  94.784353  78.26087  92.307692  84.705882"
       ]
      }
     ],
     "prompt_number": 38
    },
    {
     "cell_type": "code",
     "collapsed": false,
     "input": [
      "import classifier\n",
      "reload(classifier)\n",
      "\n",
      "# Linear SVM Experiment\n",
      "from sklearn.svm import LinearSVC\n",
      "clf = LinearSVC(penalty='l1', C=1000, intercept_scaling=1, \n",
      "                class_weight='auto', dual=False)\n",
      "param_grid = [{'C': [0.001, 0.01, 0.1,1,10,100,1000], \n",
      "               'penalty':['l1', 'l2']}]\n",
      "\n",
      "# from sklearn.svm import SVC\n",
      "# clf = SVC(C=1000, class_weight='auto', probability=True)\n",
      "# param_grid = [{'C': [0.1,1,10,100,1000],\n",
      "#                'kernel': ['linear']}]\n",
      "\n",
      "exp = classifier.ClassifierExperiment(clf, dataset.train.X, \n",
      "                                      dataset.train.y)\n",
      "\n",
      "exp = classifier.ClassifierExperiment(clf, dataset.train.X, \n",
      "                                      dataset.train.y)\n",
      "exp.grid_search(param_grid, scoring='f1')\n",
      "res, stats = exp.eval_cv(eval_train=True)\n",
      "test_res = exp.eval(dataset.test.X, dataset.test.y)\n",
      "\n",
      "for s in stats:\n",
      "    print \"== %s ==\" % s\n",
      "    display(stats[s])\n",
      "print \"== test ==\"\n",
      "display(test_res)\n",
      "\n",
      "clf_lsvm = exp.clf"
     ],
     "language": "python",
     "metadata": {},
     "outputs": [
      {
       "output_type": "stream",
       "stream": "stdout",
       "text": [
        "Best params: {'penalty': 'l1', 'C': 0.1}\n",
        "Best score: 80.58%\n"
       ]
      },
      {
       "output_type": "stream",
       "stream": "stdout",
       "text": [
        "== train sets ==\n",
        "5-fold cv:\n",
        " len: 3200.00 +\\- 0.50\n",
        " acc: 93.51 +\\- 0.17\n",
        " pre: 76.24 +\\- 0.55\n",
        " rec: 92.71 +\\- 0.10\n",
        "  f1: 83.67 +\\- 0.35\n",
        "== dev sets ==\n",
        "5-fold cv:\n",
        " len: 800.00 +\\- 0.50\n",
        " acc: 92.15 +\\- 0.57\n",
        " pre: 72.83 +\\- 2.26\n",
        " rec: 90.52 +\\- 1.79\n",
        "  f1: 80.58 +\\- 1.04\n",
        "== test set ==\n",
        " acc: 94.68\n",
        "  f1: 84.27\n",
        " len: 997.00\n",
        " pre: 78.45\n",
        " rec: 91.03\n",
        "== train ==\n"
       ]
      },
      {
       "html": [
        "<div style=\"max-height:1000px;max-width:1500px;overflow:auto;\">\n",
        "<table border=\"1\" class=\"dataframe\">\n",
        "  <thead>\n",
        "    <tr style=\"text-align: right;\">\n",
        "      <th></th>\n",
        "      <th>len</th>\n",
        "      <th>acc</th>\n",
        "      <th>pre</th>\n",
        "      <th>rec</th>\n",
        "      <th>f1</th>\n",
        "    </tr>\n",
        "  </thead>\n",
        "  <tbody>\n",
        "    <tr>\n",
        "      <th>mu</th>\n",
        "      <td> 3200</td>\n",
        "      <td> 93.512500</td>\n",
        "      <td> 76.244956</td>\n",
        "      <td> 92.712662</td>\n",
        "      <td> 83.673290</td>\n",
        "    </tr>\n",
        "    <tr>\n",
        "      <th>sigma</th>\n",
        "      <td>    1</td>\n",
        "      <td>  0.333364</td>\n",
        "      <td>  1.095309</td>\n",
        "      <td>  0.192272</td>\n",
        "      <td>  0.707862</td>\n",
        "    </tr>\n",
        "  </tbody>\n",
        "</table>\n",
        "</div>"
       ],
       "metadata": {},
       "output_type": "display_data",
       "text": [
        "        len        acc        pre        rec         f1\n",
        "mu     3200  93.512500  76.244956  92.712662  83.673290\n",
        "sigma     1   0.333364   1.095309   0.192272   0.707862"
       ]
      },
      {
       "output_type": "stream",
       "stream": "stdout",
       "text": [
        "== dev ==\n"
       ]
      },
      {
       "html": [
        "<div style=\"max-height:1000px;max-width:1500px;overflow:auto;\">\n",
        "<table border=\"1\" class=\"dataframe\">\n",
        "  <thead>\n",
        "    <tr style=\"text-align: right;\">\n",
        "      <th></th>\n",
        "      <th>len</th>\n",
        "      <th>acc</th>\n",
        "      <th>pre</th>\n",
        "      <th>rec</th>\n",
        "      <th>f1</th>\n",
        "    </tr>\n",
        "  </thead>\n",
        "  <tbody>\n",
        "    <tr>\n",
        "      <th>mu</th>\n",
        "      <td> 800</td>\n",
        "      <td> 92.150147</td>\n",
        "      <td> 72.834175</td>\n",
        "      <td> 90.517677</td>\n",
        "      <td> 80.580627</td>\n",
        "    </tr>\n",
        "    <tr>\n",
        "      <th>sigma</th>\n",
        "      <td>   1</td>\n",
        "      <td>  1.139156</td>\n",
        "      <td>  4.529709</td>\n",
        "      <td>  3.579221</td>\n",
        "      <td>  2.077654</td>\n",
        "    </tr>\n",
        "  </tbody>\n",
        "</table>\n",
        "</div>"
       ],
       "metadata": {},
       "output_type": "display_data",
       "text": [
        "       len        acc        pre        rec         f1\n",
        "mu     800  92.150147  72.834175  90.517677  80.580627\n",
        "sigma    1   1.139156   4.529709   3.579221   2.077654"
       ]
      },
      {
       "output_type": "stream",
       "stream": "stdout",
       "text": [
        "== test ==\n"
       ]
      },
      {
       "html": [
        "<div style=\"max-height:1000px;max-width:1500px;overflow:auto;\">\n",
        "<table border=\"1\" class=\"dataframe\">\n",
        "  <thead>\n",
        "    <tr style=\"text-align: right;\">\n",
        "      <th></th>\n",
        "      <th>len</th>\n",
        "      <th>acc</th>\n",
        "      <th>pre</th>\n",
        "      <th>rec</th>\n",
        "      <th>f1</th>\n",
        "    </tr>\n",
        "  </thead>\n",
        "  <tbody>\n",
        "    <tr>\n",
        "      <th>mu</th>\n",
        "      <td> 997</td>\n",
        "      <td> 94.684052</td>\n",
        "      <td> 78.453039</td>\n",
        "      <td> 91.025641</td>\n",
        "      <td> 84.272997</td>\n",
        "    </tr>\n",
        "  </tbody>\n",
        "</table>\n",
        "</div>"
       ],
       "metadata": {},
       "output_type": "display_data",
       "text": [
        "    len        acc        pre        rec         f1\n",
        "mu  997  94.684052  78.453039  91.025641  84.272997"
       ]
      }
     ],
     "prompt_number": 11
    },
    {
     "cell_type": "code",
     "collapsed": false,
     "input": [
      "import classifier\n",
      "reload(classifier)\n",
      "\n",
      "# Non-linear SVM Experiment\n",
      "from sklearn.svm import SVC\n",
      "clf = SVC(C=1000, class_weight='auto', probability=True)\n",
      "param_grid = [{'C': [0.1,1,10,100,1000],\n",
      "               'gamma': [0.0, 0.001, 0.01, 0.1],\n",
      "               'kernel': ['rbf']}]\n",
      "\n",
      "exp = classifier.ClassifierExperiment(clf, dataset.train.X, \n",
      "                                      dataset.train.y)\n",
      "exp.grid_search(param_grid, scoring='f1')\n",
      "res, stats = exp.eval_cv(eval_train=True)\n",
      "test_res = exp.eval(dataset.test.X, dataset.test.y)\n",
      "\n",
      "# Check support vector size\n",
      "exp.clf.fit(dataset.train.X,dataset.train.y)\n",
      "exp.clf.n_support_\n",
      "\n",
      "for s in stats:\n",
      "    print \"== %s ==\" % s\n",
      "    display(stats[s])\n",
      "print \"== test ==\"\n",
      "display(test_res)\n",
      "\n",
      "clf_rsvm = exp.clf"
     ],
     "language": "python",
     "metadata": {},
     "outputs": [
      {
       "output_type": "stream",
       "stream": "stdout",
       "text": [
        "Best params: {'kernel': 'rbf', 'C': 100, 'gamma': 0.001}\n",
        "Best score: 81.46%\n"
       ]
      },
      {
       "output_type": "stream",
       "stream": "stdout",
       "text": [
        "== train sets ==\n",
        "5-fold cv:\n",
        " len: 3200.00 +\\- 0.50\n",
        " acc: 95.84 +\\- 0.11\n",
        " pre: 83.79 +\\- 0.47\n",
        " rec: 95.26 +\\- 0.12\n",
        "  f1: 89.15 +\\- 0.24\n",
        "== dev sets ==\n",
        "5-fold cv:\n",
        " len: 800.00 +\\- 0.50\n",
        " acc: 92.83 +\\- 0.54\n",
        " pre: 76.38 +\\- 2.49\n",
        " rec: 87.59 +\\- 1.72\n",
        "  f1: 81.46 +\\- 1.09\n",
        "== test set =="
       ]
      },
      {
       "output_type": "stream",
       "stream": "stdout",
       "text": [
        "\n",
        " acc: 95.19\n",
        "  f1: 85.19\n",
        " len: 997.00\n",
        " pre: 82.14\n",
        " rec: 88.46\n",
        "== train =="
       ]
      },
      {
       "output_type": "stream",
       "stream": "stdout",
       "text": [
        "\n"
       ]
      },
      {
       "html": [
        "<div style=\"max-height:1000px;max-width:1500px;overflow:auto;\">\n",
        "<table border=\"1\" class=\"dataframe\">\n",
        "  <thead>\n",
        "    <tr style=\"text-align: right;\">\n",
        "      <th></th>\n",
        "      <th>len</th>\n",
        "      <th>acc</th>\n",
        "      <th>pre</th>\n",
        "      <th>rec</th>\n",
        "      <th>f1</th>\n",
        "    </tr>\n",
        "  </thead>\n",
        "  <tbody>\n",
        "    <tr>\n",
        "      <th>mu</th>\n",
        "      <td> 3200</td>\n",
        "      <td> 95.843757</td>\n",
        "      <td> 83.788183</td>\n",
        "      <td> 95.257858</td>\n",
        "      <td> 89.152660</td>\n",
        "    </tr>\n",
        "    <tr>\n",
        "      <th>sigma</th>\n",
        "      <td>    1</td>\n",
        "      <td>  0.214062</td>\n",
        "      <td>  0.940878</td>\n",
        "      <td>  0.231507</td>\n",
        "      <td>  0.477203</td>\n",
        "    </tr>\n",
        "  </tbody>\n",
        "</table>\n",
        "</div>"
       ],
       "metadata": {},
       "output_type": "display_data",
       "text": [
        "        len        acc        pre        rec         f1\n",
        "mu     3200  95.843757  83.788183  95.257858  89.152660\n",
        "sigma     1   0.214062   0.940878   0.231507   0.477203"
       ]
      },
      {
       "output_type": "stream",
       "stream": "stdout",
       "text": [
        "== dev ==\n"
       ]
      },
      {
       "html": [
        "<div style=\"max-height:1000px;max-width:1500px;overflow:auto;\">\n",
        "<table border=\"1\" class=\"dataframe\">\n",
        "  <thead>\n",
        "    <tr style=\"text-align: right;\">\n",
        "      <th></th>\n",
        "      <th>len</th>\n",
        "      <th>acc</th>\n",
        "      <th>pre</th>\n",
        "      <th>rec</th>\n",
        "      <th>f1</th>\n",
        "    </tr>\n",
        "  </thead>\n",
        "  <tbody>\n",
        "    <tr>\n",
        "      <th>mu</th>\n",
        "      <td> 800</td>\n",
        "      <td> 92.825148</td>\n",
        "      <td> 76.383007</td>\n",
        "      <td> 87.588384</td>\n",
        "      <td> 81.457855</td>\n",
        "    </tr>\n",
        "    <tr>\n",
        "      <th>sigma</th>\n",
        "      <td>   1</td>\n",
        "      <td>  1.088009</td>\n",
        "      <td>  4.973821</td>\n",
        "      <td>  3.430978</td>\n",
        "      <td>  2.170945</td>\n",
        "    </tr>\n",
        "  </tbody>\n",
        "</table>\n",
        "</div>"
       ],
       "metadata": {},
       "output_type": "display_data",
       "text": [
        "       len        acc        pre        rec         f1\n",
        "mu     800  92.825148  76.383007  87.588384  81.457855\n",
        "sigma    1   1.088009   4.973821   3.430978   2.170945"
       ]
      },
      {
       "output_type": "stream",
       "stream": "stdout",
       "text": [
        "== test ==\n"
       ]
      },
      {
       "html": [
        "<div style=\"max-height:1000px;max-width:1500px;overflow:auto;\">\n",
        "<table border=\"1\" class=\"dataframe\">\n",
        "  <thead>\n",
        "    <tr style=\"text-align: right;\">\n",
        "      <th></th>\n",
        "      <th>len</th>\n",
        "      <th>acc</th>\n",
        "      <th>pre</th>\n",
        "      <th>rec</th>\n",
        "      <th>f1</th>\n",
        "    </tr>\n",
        "  </thead>\n",
        "  <tbody>\n",
        "    <tr>\n",
        "      <th>mu</th>\n",
        "      <td> 997</td>\n",
        "      <td> 95.185557</td>\n",
        "      <td> 82.142857</td>\n",
        "      <td> 88.461538</td>\n",
        "      <td> 85.185185</td>\n",
        "    </tr>\n",
        "  </tbody>\n",
        "</table>\n",
        "</div>"
       ],
       "metadata": {},
       "output_type": "display_data",
       "text": [
        "    len        acc        pre        rec         f1\n",
        "mu  997  95.185557  82.142857  88.461538  85.185185"
       ]
      }
     ],
     "prompt_number": 12
    },
    {
     "cell_type": "code",
     "collapsed": false,
     "input": [
      "import classifier\n",
      "reload(classifier)\n",
      "\n",
      "# Random Forest Experiment\n",
      "from sklearn.ensemble import RandomForestClassifier\n",
      "clf = RandomForestClassifier(n_estimators=10, max_depth=10)\n",
      "param_grid = [{'n_estimators': [10,50,100,],\n",
      "               'max_depth': [None,5,10,]}]\n",
      "\n",
      "exp = classifier.ClassifierExperiment(clf, dataset.train.X, \n",
      "                                      dataset.train.y)\n",
      "exp.grid_search(param_grid, scoring='f1')\n",
      "%time res, stats = exp.eval_cv(eval_train=True)\n",
      "test_res = exp.eval(dataset.test.X, dataset.test.y)\n",
      "\n",
      "for s in stats:\n",
      "    print \"== %s ==\" % s\n",
      "    display(stats[s])\n",
      "print \"== test ==\"\n",
      "display(test_res)\n",
      "\n",
      "clf_rf = exp.clf"
     ],
     "language": "python",
     "metadata": {},
     "outputs": [
      {
       "output_type": "stream",
       "stream": "stdout",
       "text": [
        "Best params: {'n_estimators': 100, 'max_depth': None}\n",
        "Best score: 86.54%\n"
       ]
      },
      {
       "output_type": "stream",
       "stream": "stdout",
       "text": [
        "== train sets ==\n",
        "5-fold cv:\n",
        " len: 3200.00 +\\- 0.50\n",
        " acc: 99.93 +\\- 0.01\n",
        " pre: 99.83 +\\- 0.09\n",
        " rec: 99.79 +\\- 0.04\n",
        "  f1: 99.81 +\\- 0.04\n",
        "== dev sets ==\n",
        "5-fold cv:\n",
        " len: 800.00 +\\- 0.50\n",
        " acc: 95.27 +\\- 0.47\n",
        " pre: 89.11 +\\- 1.48\n",
        " rec: 83.96 +\\- 2.14\n",
        "  f1: 86.40 +\\- 1.40\n",
        "CPU times: user 114 ms, sys: 76.3 ms, total: 191 ms\n",
        "Wall time: 985 ms\n",
        "== test set ==\n",
        " acc: 96.79\n",
        "  f1: 89.33\n",
        " len: 997.00\n",
        " pre: 93.06\n",
        " rec: 85.90\n",
        "== train ==\n"
       ]
      },
      {
       "html": [
        "<div style=\"max-height:1000px;max-width:1500px;overflow:auto;\">\n",
        "<table border=\"1\" class=\"dataframe\">\n",
        "  <thead>\n",
        "    <tr style=\"text-align: right;\">\n",
        "      <th></th>\n",
        "      <th>len</th>\n",
        "      <th>acc</th>\n",
        "      <th>pre</th>\n",
        "      <th>rec</th>\n",
        "      <th>f1</th>\n",
        "    </tr>\n",
        "  </thead>\n",
        "  <tbody>\n",
        "    <tr>\n",
        "      <th>mu</th>\n",
        "      <td> 3200</td>\n",
        "      <td> 99.931246</td>\n",
        "      <td> 99.825844</td>\n",
        "      <td> 99.790819</td>\n",
        "      <td> 99.808225</td>\n",
        "    </tr>\n",
        "    <tr>\n",
        "      <th>sigma</th>\n",
        "      <td>    1</td>\n",
        "      <td>  0.026156</td>\n",
        "      <td>  0.174065</td>\n",
        "      <td>  0.077844</td>\n",
        "      <td>  0.072817</td>\n",
        "    </tr>\n",
        "  </tbody>\n",
        "</table>\n",
        "</div>"
       ],
       "metadata": {},
       "output_type": "display_data",
       "text": [
        "        len        acc        pre        rec         f1\n",
        "mu     3200  99.931246  99.825844  99.790819  99.808225\n",
        "sigma     1   0.026156   0.174065   0.077844   0.072817"
       ]
      },
      {
       "output_type": "stream",
       "stream": "stdout",
       "text": [
        "== dev ==\n"
       ]
      },
      {
       "html": [
        "<div style=\"max-height:1000px;max-width:1500px;overflow:auto;\">\n",
        "<table border=\"1\" class=\"dataframe\">\n",
        "  <thead>\n",
        "    <tr style=\"text-align: right;\">\n",
        "      <th></th>\n",
        "      <th>len</th>\n",
        "      <th>acc</th>\n",
        "      <th>pre</th>\n",
        "      <th>rec</th>\n",
        "      <th>f1</th>\n",
        "    </tr>\n",
        "  </thead>\n",
        "  <tbody>\n",
        "    <tr>\n",
        "      <th>mu</th>\n",
        "      <td> 800</td>\n",
        "      <td> 95.274525</td>\n",
        "      <td> 89.105170</td>\n",
        "      <td> 83.964646</td>\n",
        "      <td> 86.404768</td>\n",
        "    </tr>\n",
        "    <tr>\n",
        "      <th>sigma</th>\n",
        "      <td>   1</td>\n",
        "      <td>  0.944840</td>\n",
        "      <td>  2.961162</td>\n",
        "      <td>  4.288004</td>\n",
        "      <td>  2.808284</td>\n",
        "    </tr>\n",
        "  </tbody>\n",
        "</table>\n",
        "</div>"
       ],
       "metadata": {},
       "output_type": "display_data",
       "text": [
        "       len        acc        pre        rec         f1\n",
        "mu     800  95.274525  89.105170  83.964646  86.404768\n",
        "sigma    1   0.944840   2.961162   4.288004   2.808284"
       ]
      },
      {
       "output_type": "stream",
       "stream": "stdout",
       "text": [
        "== test ==\n"
       ]
      },
      {
       "html": [
        "<div style=\"max-height:1000px;max-width:1500px;overflow:auto;\">\n",
        "<table border=\"1\" class=\"dataframe\">\n",
        "  <thead>\n",
        "    <tr style=\"text-align: right;\">\n",
        "      <th></th>\n",
        "      <th>len</th>\n",
        "      <th>acc</th>\n",
        "      <th>pre</th>\n",
        "      <th>rec</th>\n",
        "      <th>f1</th>\n",
        "    </tr>\n",
        "  </thead>\n",
        "  <tbody>\n",
        "    <tr>\n",
        "      <th>mu</th>\n",
        "      <td> 997</td>\n",
        "      <td> 96.790371</td>\n",
        "      <td> 93.055556</td>\n",
        "      <td> 85.897436</td>\n",
        "      <td> 89.333333</td>\n",
        "    </tr>\n",
        "  </tbody>\n",
        "</table>\n",
        "</div>"
       ],
       "metadata": {},
       "output_type": "display_data",
       "text": [
        "    len        acc        pre        rec         f1\n",
        "mu  997  96.790371  93.055556  85.897436  89.333333"
       ]
      }
     ],
     "prompt_number": 39
    },
    {
     "cell_type": "code",
     "collapsed": false,
     "input": [
      "clf_rf.feature_importances_\n",
      "\n",
      "print \"Best features:\"\n",
      "f_top = sorted(zip(dataset.col_to_feature.values(), clf_rf.feature_importances_),\n",
      "                  key=lambda s: abs(s[1]), reverse=True)\n",
      "for l,w in f_top[:10]:\n",
      "    print \"%s : %.04f\" % (l.ljust(10),w)\n",
      "\n",
      "figure(figsize=(8,5))\n",
      "ls, ws = zip(*f_top)\n",
      "bar(arange(len(ws)), ws)\n",
      "NF = 25\n",
      "xlim(0,NF)\n",
      "xticks(arange(NF)+0.5, ls, rotation=90);\n",
      "ylabel(\"Relative Importance\")"
     ],
     "language": "python",
     "metadata": {},
     "outputs": [
      {
       "output_type": "stream",
       "stream": "stdout",
       "text": [
        "Best features:\n",
        "f_sentence_pattern : 0.1558\n",
        "f_pos_.    : 0.1243\n",
        "f_nchars   : 0.0725\n",
        "f_nwords   : 0.0631\n",
        "f_rupper   : 0.0557\n",
        "f_rpunct   : 0.0378\n",
        "f_pos_IN   : 0.0335\n",
        "f_pos_DT   : 0.0331\n",
        "f_pos_PRP  : 0.0292\n",
        "f_nupper   : 0.0272\n"
       ]
      },
      {
       "metadata": {},
       "output_type": "pyout",
       "prompt_number": 59,
       "text": [
        "<matplotlib.text.Text at 0x7f8d1d712dd0>"
       ]
      },
      {
       "metadata": {},
       "output_type": "display_data",
       "png": "[encoded data removed]",
       "text": [
        "<matplotlib.figure.Figure at 0x7f8d1d6c9a90>"
       ]
      }
     ],
     "prompt_number": 59
    },
    {
     "cell_type": "code",
     "collapsed": false,
     "input": [
      "import classifier\n",
      "reload(classifier)\n",
      "\n",
      "# Boosting Experiment\n",
      "from sklearn.ensemble import AdaBoostClassifier\n",
      "clf = AdaBoostClassifier(n_estimators=10)\n",
      "param_grid = [{'n_estimators': [10,50,100,200]}]\n",
      "\n",
      "exp = classifier.ClassifierExperiment(clf, dataset.train.X, \n",
      "                                      dataset.train.y)\n",
      "exp.grid_search(param_grid, scoring='f1')\n",
      "res, stats = exp.eval_cv(eval_train=True)\n",
      "test_res = exp.eval(dataset.test.X, dataset.test.y)\n",
      "\n",
      "for s in stats:\n",
      "    print \"== %s ==\" % s\n",
      "    display(stats[s])\n",
      "print \"== test ==\"\n",
      "display(test_res)\n",
      "\n",
      "clf_ab = exp.clf"
     ],
     "language": "python",
     "metadata": {},
     "outputs": [
      {
       "output_type": "stream",
       "stream": "stdout",
       "text": [
        "Best params: {'n_estimators': 100}\n",
        "Best score: 83.49%\n"
       ]
      },
      {
       "output_type": "stream",
       "stream": "stdout",
       "text": [
        "== train sets ==\n",
        "5-fold cv:\n",
        " len: 3200.00 +\\- 0.50\n",
        " acc: 96.24 +\\- 0.15\n",
        " pre: 90.65 +\\- 0.64\n",
        " rec: 88.11 +\\- 0.39\n",
        "  f1: 89.36 +\\- 0.41\n",
        "== dev sets ==\n",
        "5-fold cv:\n",
        " len: 800.00 +\\- 0.50\n",
        " acc: 94.17 +\\- 0.41\n",
        " pre: 84.81 +\\- 1.23\n",
        " rec: 82.29 +\\- 2.03\n",
        "  f1: 83.49 +\\- 1.24\n",
        "== test set =="
       ]
      },
      {
       "output_type": "stream",
       "stream": "stdout",
       "text": [
        "\n",
        " acc: 95.99\n",
        "  f1: 87.10\n",
        " len: 997.00\n",
        " pre: 87.66\n",
        " rec: 86.54\n",
        "== train ==\n"
       ]
      },
      {
       "html": [
        "<div style=\"max-height:1000px;max-width:1500px;overflow:auto;\">\n",
        "<table border=\"1\" class=\"dataframe\">\n",
        "  <thead>\n",
        "    <tr style=\"text-align: right;\">\n",
        "      <th></th>\n",
        "      <th>len</th>\n",
        "      <th>acc</th>\n",
        "      <th>pre</th>\n",
        "      <th>rec</th>\n",
        "      <th>f1</th>\n",
        "    </tr>\n",
        "  </thead>\n",
        "  <tbody>\n",
        "    <tr>\n",
        "      <th>mu</th>\n",
        "      <td> 3200</td>\n",
        "      <td> 96.237472</td>\n",
        "      <td> 90.649922</td>\n",
        "      <td> 88.110440</td>\n",
        "      <td> 89.358429</td>\n",
        "    </tr>\n",
        "    <tr>\n",
        "      <th>sigma</th>\n",
        "      <td>    1</td>\n",
        "      <td>  0.300613</td>\n",
        "      <td>  1.276159</td>\n",
        "      <td>  0.778155</td>\n",
        "      <td>  0.819153</td>\n",
        "    </tr>\n",
        "  </tbody>\n",
        "</table>\n",
        "</div>"
       ],
       "metadata": {},
       "output_type": "display_data",
       "text": [
        "        len        acc        pre        rec         f1\n",
        "mu     3200  96.237472  90.649922  88.110440  89.358429\n",
        "sigma     1   0.300613   1.276159   0.778155   0.819153"
       ]
      },
      {
       "output_type": "stream",
       "stream": "stdout",
       "text": [
        "== dev ==\n"
       ]
      },
      {
       "html": [
        "<div style=\"max-height:1000px;max-width:1500px;overflow:auto;\">\n",
        "<table border=\"1\" class=\"dataframe\">\n",
        "  <thead>\n",
        "    <tr style=\"text-align: right;\">\n",
        "      <th></th>\n",
        "      <th>len</th>\n",
        "      <th>acc</th>\n",
        "      <th>pre</th>\n",
        "      <th>rec</th>\n",
        "      <th>f1</th>\n",
        "    </tr>\n",
        "  </thead>\n",
        "  <tbody>\n",
        "    <tr>\n",
        "      <th>mu</th>\n",
        "      <td> 800</td>\n",
        "      <td> 94.174992</td>\n",
        "      <td> 84.812726</td>\n",
        "      <td> 82.293124</td>\n",
        "      <td> 83.485921</td>\n",
        "    </tr>\n",
        "    <tr>\n",
        "      <th>sigma</th>\n",
        "      <td>   1</td>\n",
        "      <td>  0.812262</td>\n",
        "      <td>  2.469098</td>\n",
        "      <td>  4.054342</td>\n",
        "      <td>  2.473624</td>\n",
        "    </tr>\n",
        "  </tbody>\n",
        "</table>\n",
        "</div>"
       ],
       "metadata": {},
       "output_type": "display_data",
       "text": [
        "       len        acc        pre        rec         f1\n",
        "mu     800  94.174992  84.812726  82.293124  83.485921\n",
        "sigma    1   0.812262   2.469098   4.054342   2.473624"
       ]
      },
      {
       "output_type": "stream",
       "stream": "stdout",
       "text": [
        "== test ==\n"
       ]
      },
      {
       "html": [
        "<div style=\"max-height:1000px;max-width:1500px;overflow:auto;\">\n",
        "<table border=\"1\" class=\"dataframe\">\n",
        "  <thead>\n",
        "    <tr style=\"text-align: right;\">\n",
        "      <th></th>\n",
        "      <th>len</th>\n",
        "      <th>acc</th>\n",
        "      <th>pre</th>\n",
        "      <th>rec</th>\n",
        "      <th>f1</th>\n",
        "    </tr>\n",
        "  </thead>\n",
        "  <tbody>\n",
        "    <tr>\n",
        "      <th>mu</th>\n",
        "      <td> 997</td>\n",
        "      <td> 95.987964</td>\n",
        "      <td> 87.662338</td>\n",
        "      <td> 86.538462</td>\n",
        "      <td> 87.096774</td>\n",
        "    </tr>\n",
        "  </tbody>\n",
        "</table>\n",
        "</div>"
       ],
       "metadata": {},
       "output_type": "display_data",
       "text": [
        "    len        acc        pre        rec         f1\n",
        "mu  997  95.987964  87.662338  86.538462  87.096774"
       ]
      }
     ],
     "prompt_number": 14
    },
    {
     "cell_type": "code",
     "collapsed": false,
     "input": [
      "y = dataset.test.y\n",
      "ypred = clf_rf.predict(dataset.test.X)\n",
      "classifier.standard_scorefunc(y, ypred)"
     ],
     "language": "python",
     "metadata": {},
     "outputs": [
      {
       "metadata": {},
       "output_type": "pyout",
       "prompt_number": 50,
       "text": [
        "{'acc': 96.790371113340029,\n",
        " 'f1': 89.333333333333343,\n",
        " 'len': 997,\n",
        " 'pre': 93.055555555555543,\n",
        " 'rec': 85.897435897435898}"
       ]
      }
     ],
     "prompt_number": 50
    },
    {
     "cell_type": "code",
     "collapsed": false,
     "input": [
      "figure(figsize=(6,5))\n",
      "\n",
      "from sklearn import metrics\n",
      "y = dataset.test.y\n",
      "\n",
      "plot([-1,R_baseline/100,R_baseline/100], [P_baseline/100, P_baseline/100,-1], \n",
      "     label=(\"Baseline (AuPRC: %.02f)\" % (R_baseline/100 * P_baseline/100)), \n",
      "     color='y', marker='s', linestyle='--', linewidth=1.5, markersize=7)\n",
      "\n",
      "yproba = clf_logistic.predict_proba(dataset.test.X)[:,1]\n",
      "P, R, T = metrics.precision_recall_curve(y, yproba)\n",
      "plot(R,P, label=(\"Logistic (AuPRC: %.02f)\" % metrics.auc(R,P)), \n",
      "     drawstyle='steps-mid')\n",
      "\n",
      "yproba = clf_lsvm.decision_function(dataset.test.X)\n",
      "P, R, T = metrics.precision_recall_curve(y, yproba)\n",
      "plot(R,P, label=(\"Linear SVM (AuPRC: %.02f)\" % metrics.auc(R,P)), \n",
      "     drawstyle='steps-mid')\n",
      "\n",
      "yproba = clf_rsvm.predict_proba(dataset.test.X)[:,1]\n",
      "P, R, T = metrics.precision_recall_curve(y, yproba)\n",
      "plot(R,P, label=(\"RBF SVM (AuPRC: %.02f)\" % metrics.auc(R,P)), \n",
      "     drawstyle='steps-mid')\n",
      "\n",
      "yproba = clf_rf.predict_proba(dataset.test.X)[:,1]\n",
      "P, R, T = metrics.precision_recall_curve(y, yproba)\n",
      "plot(R,P, label=(\"Random Forest (AuPRC: %.02f)\" % metrics.auc(R,P)), \n",
      "     linewidth=1.5, color='m', drawstyle='steps-mid')\n",
      "\n",
      "# yproba = clf_ab.predict_proba(dataset.test.X)[:,1]\n",
      "# P, R, T = metrics.precision_recall_curve(y, yproba)\n",
      "# plot(R,P, label=\"AdaBoost\")\n",
      "\n",
      "axhline(0.95, linestyle=':', linewidth=1.0, color='k', alpha=0.75)\n",
      "\n",
      "xticks(linspace(0,1,11))\n",
      "yticks(linspace(0,1,11))\n",
      "\n",
      "grid('on')\n",
      "xlim(0,1)\n",
      "ylim(0,1)\n",
      "ylabel(\"Precision\")\n",
      "xlabel(\"Recall\")\n",
      "legend(loc='lower left', ncol=1, fancybox=True, framealpha=1.0)\n",
      "\n",
      "tight_layout()\n",
      "savefig(\"../report/prc.png\", dpi=300)"
     ],
     "language": "python",
     "metadata": {},
     "outputs": [
      {
       "metadata": {},
       "output_type": "display_data",
       "png": "[encoded data removed]",
       "text": [
        "<matplotlib.figure.Figure at 0x7f8d1ea42a50>"
       ]
      }
     ],
     "prompt_number": 33
    },
    {
     "cell_type": "code",
     "collapsed": false,
     "input": [
      "erridx = dataset.test.Xy_idx[y != ypred]\n",
      "dataset.df_master.loc[erridx].__TEXT__\n",
      "\n",
      "for i,(yt, yp) in enumerate(zip(y,ypred)):\n",
      "    if yt != yp:\n",
      "        print \"TRUE: %s\" % yt\n",
      "        print \"PRED: %s\" % yp\n",
      "        print \"TEXT: %s\" % dataset.df_master.loc[dataset.test.Xy_idx[i]].__TEXT__"
     ],
     "language": "python",
     "metadata": {},
     "outputs": [
      {
       "output_type": "stream",
       "stream": "stdout",
       "text": [
        "TRUE: 1\n",
        "PRED: 0\n",
        "TEXT: Its a 2 man job BTW.\n",
        "TRUE: 0\n",
        "PRED: 1\n",
        "TEXT: Played a video hobby, go on a amble, go on a drive, played a computer spectator sport, etc.\n",
        "TRUE: 1\n",
        "PRED: 0\n",
        "TEXT: A multi-disciplinary design consultancy urgently require design consultants/junior designers for their London office\n",
        "TRUE: 1\n",
        "PRED: 0\n",
        "TEXT: Think like they think\n",
        "TRUE: 1\n",
        "PRED: 0\n",
        "TEXT: LINKS For more information on Central America, please see: International Energy Data Base Central America Daily - Up-to-date news on Central America World Energy News Central America Headlines\n",
        "TRUE: 1\n",
        "PRED: 0\n",
        "TEXT: If you want to try something on your own, try this:\n",
        "TRUE: 1\n",
        "PRED: 0\n",
        "TEXT: co-produced by Danger Mouse ... that's cool!\n",
        "TRUE: 1\n",
        "PRED: 0\n",
        "TEXT: ahh, so not a cut to shape and slap job then.\n",
        "TRUE: 1\n",
        "PRED: 0\n",
        "TEXT: Try one of the ReverbNation Channels\n",
        "TRUE: 1\n",
        "PRED: 0\n",
        "TEXT: Label is resistant to these solvents: Xylene, IPA, DMSO, Ethanol, Toluene.\n",
        "TRUE: 1\n",
        "PRED: 0\n",
        "TEXT: CCleaner 2.24.1010 Freeware CCleaner 2.24.1010 Freeware | System Optimizer | RAR | 5MBCCleaner is a freeware system optimization, privacy and cleaning tool.\n",
        "TRUE: 1\n",
        "PRED: 0\n",
        "TEXT: Label is UL, CSA & AGA approved with its respective ribbon.\n",
        "TRUE: 1\n",
        "PRED: 0\n",
        "TEXT: Sign in for personalised recommendations\n",
        "TRUE: 1\n",
        "PRED: 0\n",
        "TEXT: Chantix...it's pills.\n",
        "TRUE: 1\n",
        "PRED: 0\n",
        "TEXT: NOTE: the examples above are purely that, examples (except where indicated), they are not related to any real copyrighted projects or products, and any similarity is unintentional\n",
        "TRUE: 0\n",
        "PRED: 1\n",
        "TEXT: Ensures access independently from the parking lot of the facility until the emergency exit.\n",
        "TRUE: 1\n",
        "PRED: 0\n",
        "TEXT: If you don't make it to the store by the deadline, we'll cancel the order and refund your method of payment\n",
        "TRUE: 1\n",
        "PRED: 0\n",
        "TEXT: She's nice, might get annoying ...\n",
        "TRUE: 0\n",
        "PRED: 1\n",
        "TEXT: Get All Of This Free Now !\n",
        "TRUE: 0\n",
        "PRED: 1\n",
        "TEXT: Microsoft's network certifications for another article.\n",
        "TRUE: 1\n",
        "PRED: 0\n",
        "TEXT: Hey, Sands of Time was good.\n",
        "TRUE: 1\n",
        "PRED: 0\n",
        "TEXT: They really simplified the process -Heather, NC\n",
        "TRUE: 0\n",
        "PRED: 1\n",
        "TEXT: Bothered?\n",
        "TRUE: 0\n",
        "PRED: 1\n",
        "TEXT: for many, the power of the secret has helped them to better understand what life can hold for them and what they can have. but, for some, even after reading the famous book they sit around and wait for the magical thing ...\n",
        "TRUE: 1\n",
        "PRED: 0\n",
        "TEXT: Not that much, says Henry\n",
        "TRUE: 0\n",
        "PRED: 1\n",
        "TEXT: Azumah Resources announced on Thursday morning that it had raised $30\u00a0million through a placement of 50\u00a0million shares at 60\u00a2.\n",
        "TRUE: 1\n",
        "PRED: 0\n",
        "TEXT: Be prepared for year's busiest boating weekend\n",
        "TRUE: 0\n",
        "PRED: 1\n",
        "TEXT: Tully Sullivan doesn't remember her past and certainly doesn't believe that she is a dragon. \u00a0Mother, yes but dragon? \u00a0No way. \u00a0So she loses control of herself once every few months and turns metal to gold. \u00a0Everybody has their quirks. \u00a0To top everything off she is suppose to be the mate of the notorious leader of the Light Dragons. \u00a0How much worse can a girl's\n",
        "TRUE: 0\n",
        "PRED: 1\n",
        "TEXT: Aisling Grey is juggling being a demon lord, a Guardian, and a wyvern's mate, even though she's keeping her distance from said wyvern, Drake, these days.\n",
        "TRUE: 1\n",
        "PRED: 0\n",
        "TEXT: > I am a trades person\n",
        "TRUE: 1\n",
        "PRED: 0\n",
        "TEXT: The dangers of having a non-secure wireless access-point are:\n",
        "TRUE: 0\n",
        "PRED: 1\n",
        "TEXT: Login or Register to comment!\n"
       ]
      }
     ],
     "prompt_number": 51
    },
    {
     "cell_type": "markdown",
     "metadata": {},
     "source": [
      "## Feature Bayesian Analysis"
     ]
    },
    {
     "cell_type": "code",
     "collapsed": false,
     "input": [
      "import analysis\n",
      "reload(analysis)\n",
      "\n",
      "ds = analysis.segregate_by_label(dataset.df_master, \"f_lmscore_norm_apw_eng_o2\").items()"
     ],
     "language": "python",
     "metadata": {},
     "outputs": [],
     "prompt_number": 27
    },
    {
     "cell_type": "code",
     "collapsed": false,
     "input": [
      "analysis.visualize_conditionals([d[1] for d in ds], arange(-10,0,0.2), figsize=(10,10),\n",
      "                                labels=[d[0] for d in ds])\n",
      "legend(loc='upper left')"
     ],
     "language": "python",
     "metadata": {},
     "outputs": [
      {
       "output_type": "stream",
       "stream": "stdout",
       "text": [
        "Class totals: \n",
        "    1574 (-FRAGMENT-)\n",
        "    873 (-SENTENCE-)\n",
        "    37 (-NONE-)\n",
        "    2513 (-NONSENSE-)\n",
        "4997 points total\n",
        "(28 points clipped by histogram)\n"
       ]
      },
      {
       "metadata": {},
       "output_type": "pyout",
       "prompt_number": 31,
       "text": [
        "<matplotlib.legend.Legend at 0x7ff259a30390>"
       ]
      },
      {
       "metadata": {},
       "output_type": "display_data",
       "png": "[encoded data removed]",
       "text": [
        "<matplotlib.figure.Figure at 0x7ff25acb27d0>"
       ]
      }
     ],
     "prompt_number": 31
    },
    {
     "cell_type": "code",
     "collapsed": false,
     "input": [],
     "language": "python",
     "metadata": {},
     "outputs": []
    }
   ],
   "metadata": {}
  }
 ]
}