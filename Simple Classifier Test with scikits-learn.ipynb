{
 "metadata": {
  "name": "",
  "signature": "sha256:af603199c7b143a68092820efbd84a8fc7580cddf494ced49b4d452c28d2dc8a"
 },
 "nbformat": 3,
 "nbformat_minor": 0,
 "worksheets": [
  {
   "cells": [
    {
     "cell_type": "code",
     "collapsed": false,
     "input": [
      "import sys, os, re, json\n",
      "import collections\n",
      "%pylab inline\n",
      "import pandas as pd\n",
      "import sklearn"
     ],
     "language": "python",
     "metadata": {},
     "outputs": [
      {
       "output_type": "stream",
       "stream": "stdout",
       "text": [
        "Populating the interactive namespace from numpy and matplotlib\n"
       ]
      }
     ],
     "prompt_number": 1
    },
    {
     "cell_type": "markdown",
     "metadata": {},
     "source": [
      "## Load to DataFrame"
     ]
    },
    {
     "cell_type": "code",
     "collapsed": false,
     "input": [
      "infile = \"data/test.txt.annotated\"\n",
      "with open(infile) as fd:\n",
      "    data = json.load(fd)\n",
      "\n",
      "# Convert to DataFrame\n",
      "df = pd.DataFrame.from_dict(data, orient='index')\n",
      "df.set_axis('columns', ['__TEXT__','__LABEL__'])\n",
      "df.head(5)"
     ],
     "language": "python",
     "metadata": {},
     "outputs": [
      {
       "html": [
        "<div style=\"max-height:1000px;max-width:1500px;overflow:auto;\">\n",
        "<table border=\"1\" class=\"dataframe\">\n",
        "  <thead>\n",
        "    <tr style=\"text-align: right;\">\n",
        "      <th></th>\n",
        "      <th>__TEXT__</th>\n",
        "      <th>__LABEL__</th>\n",
        "    </tr>\n",
        "  </thead>\n",
        "  <tbody>\n",
        "    <tr>\n",
        "      <th>2b49947ed400462d6bd58933c620e8fe</th>\n",
        "      <td>       UmmYeah.com</td>\n",
        "      <td> -NONSENSE-</td>\n",
        "    </tr>\n",
        "    <tr>\n",
        "      <th>6dc2c4335fd9f646356ffe75710662ba</th>\n",
        "      <td> 3 stars (average)</td>\n",
        "      <td> -NONSENSE-</td>\n",
        "    </tr>\n",
        "    <tr>\n",
        "      <th>a43c547996f347ff9e90ae6a42e58fe4</th>\n",
        "      <td>              WEEK</td>\n",
        "      <td> -NONSENSE-</td>\n",
        "    </tr>\n",
        "    <tr>\n",
        "      <th>b34a0c62d07674c3ab17d4f83ab60a97</th>\n",
        "      <td>                AD</td>\n",
        "      <td> -NONSENSE-</td>\n",
        "    </tr>\n",
        "    <tr>\n",
        "      <th>6fef6ec55cb007795b5994b227ac31f6</th>\n",
        "      <td>       Video Image</td>\n",
        "      <td> -NONSENSE-</td>\n",
        "    </tr>\n",
        "  </tbody>\n",
        "</table>\n",
        "</div>"
       ],
       "metadata": {},
       "output_type": "pyout",
       "prompt_number": 19,
       "text": [
        "                                           __TEXT__   __LABEL__\n",
        "2b49947ed400462d6bd58933c620e8fe        UmmYeah.com  -NONSENSE-\n",
        "6dc2c4335fd9f646356ffe75710662ba  3 stars (average)  -NONSENSE-\n",
        "a43c547996f347ff9e90ae6a42e58fe4               WEEK  -NONSENSE-\n",
        "b34a0c62d07674c3ab17d4f83ab60a97                 AD  -NONSENSE-\n",
        "6fef6ec55cb007795b5994b227ac31f6        Video Image  -NONSENSE-"
       ]
      }
     ],
     "prompt_number": 19
    },
    {
     "cell_type": "code",
     "collapsed": false,
     "input": [
      "def genlen(g):\n",
      "    acc = 0\n",
      "    for i in g: acc += 1\n",
      "    return acc\n",
      "\n",
      "df['nchars'] = df.__TEXT__.map(len)\n",
      "df['nwords'] = df.__TEXT__.map(lambda s: len(s.split()))\n",
      "df['npunct'] = df.__TEXT__.map(lambda s: genlen(c for c in s if (not c.isalnum()) and not c in [\" \", \"\\t\"]))\n",
      "df['ndigit'] = df.__TEXT__.map(lambda s: genlen(c for c in s if c.isdigit()))\n",
      "# for t in ['porn','xxx']:\n",
      "#     df['token__'+t] = df.__TEXT__.map(lambda s: t in s.lower().split())\n",
      "    \n",
      "df.head()"
     ],
     "language": "python",
     "metadata": {},
     "outputs": [
      {
       "html": [
        "<div style=\"max-height:1000px;max-width:1500px;overflow:auto;\">\n",
        "<table border=\"1\" class=\"dataframe\">\n",
        "  <thead>\n",
        "    <tr style=\"text-align: right;\">\n",
        "      <th></th>\n",
        "      <th>__TEXT__</th>\n",
        "      <th>__LABEL__</th>\n",
        "      <th>nchars</th>\n",
        "      <th>nwords</th>\n",
        "      <th>npunct</th>\n",
        "      <th>ndigit</th>\n",
        "      <th>token__porn</th>\n",
        "      <th>token__xxx</th>\n",
        "    </tr>\n",
        "  </thead>\n",
        "  <tbody>\n",
        "    <tr>\n",
        "      <th>2b49947ed400462d6bd58933c620e8fe</th>\n",
        "      <td>       UmmYeah.com</td>\n",
        "      <td> -NONSENSE-</td>\n",
        "      <td> 11</td>\n",
        "      <td> 1</td>\n",
        "      <td> 1</td>\n",
        "      <td> 0</td>\n",
        "      <td> False</td>\n",
        "      <td> False</td>\n",
        "    </tr>\n",
        "    <tr>\n",
        "      <th>6dc2c4335fd9f646356ffe75710662ba</th>\n",
        "      <td> 3 stars (average)</td>\n",
        "      <td> -NONSENSE-</td>\n",
        "      <td> 17</td>\n",
        "      <td> 3</td>\n",
        "      <td> 2</td>\n",
        "      <td> 1</td>\n",
        "      <td> False</td>\n",
        "      <td> False</td>\n",
        "    </tr>\n",
        "    <tr>\n",
        "      <th>a43c547996f347ff9e90ae6a42e58fe4</th>\n",
        "      <td>              WEEK</td>\n",
        "      <td> -NONSENSE-</td>\n",
        "      <td>  4</td>\n",
        "      <td> 1</td>\n",
        "      <td> 0</td>\n",
        "      <td> 0</td>\n",
        "      <td> False</td>\n",
        "      <td> False</td>\n",
        "    </tr>\n",
        "    <tr>\n",
        "      <th>b34a0c62d07674c3ab17d4f83ab60a97</th>\n",
        "      <td>                AD</td>\n",
        "      <td> -NONSENSE-</td>\n",
        "      <td>  2</td>\n",
        "      <td> 1</td>\n",
        "      <td> 0</td>\n",
        "      <td> 0</td>\n",
        "      <td> False</td>\n",
        "      <td> False</td>\n",
        "    </tr>\n",
        "    <tr>\n",
        "      <th>6fef6ec55cb007795b5994b227ac31f6</th>\n",
        "      <td>       Video Image</td>\n",
        "      <td> -NONSENSE-</td>\n",
        "      <td> 11</td>\n",
        "      <td> 2</td>\n",
        "      <td> 0</td>\n",
        "      <td> 0</td>\n",
        "      <td> False</td>\n",
        "      <td> False</td>\n",
        "    </tr>\n",
        "  </tbody>\n",
        "</table>\n",
        "</div>"
       ],
       "metadata": {},
       "output_type": "pyout",
       "prompt_number": 44,
       "text": [
        "                                           __TEXT__   __LABEL__  nchars  \\\n",
        "2b49947ed400462d6bd58933c620e8fe        UmmYeah.com  -NONSENSE-      11   \n",
        "6dc2c4335fd9f646356ffe75710662ba  3 stars (average)  -NONSENSE-      17   \n",
        "a43c547996f347ff9e90ae6a42e58fe4               WEEK  -NONSENSE-       4   \n",
        "b34a0c62d07674c3ab17d4f83ab60a97                 AD  -NONSENSE-       2   \n",
        "6fef6ec55cb007795b5994b227ac31f6        Video Image  -NONSENSE-      11   \n",
        "\n",
        "                                  nwords  npunct  ndigit token__porn  \\\n",
        "2b49947ed400462d6bd58933c620e8fe       1       1       0       False   \n",
        "6dc2c4335fd9f646356ffe75710662ba       3       2       1       False   \n",
        "a43c547996f347ff9e90ae6a42e58fe4       1       0       0       False   \n",
        "b34a0c62d07674c3ab17d4f83ab60a97       1       0       0       False   \n",
        "6fef6ec55cb007795b5994b227ac31f6       2       0       0       False   \n",
        "\n",
        "                                 token__xxx  \n",
        "2b49947ed400462d6bd58933c620e8fe      False  \n",
        "6dc2c4335fd9f646356ffe75710662ba      False  \n",
        "a43c547996f347ff9e90ae6a42e58fe4      False  \n",
        "b34a0c62d07674c3ab17d4f83ab60a97      False  \n",
        "6fef6ec55cb007795b5994b227ac31f6      False  "
       ]
      }
     ],
     "prompt_number": 44
    },
    {
     "cell_type": "code",
     "collapsed": false,
     "input": [
      "# Convert to dense matrix\n",
      "featurenames = [c for c in df.columns if c[:2] != \"__\"]\n",
      "X = df[featurenames].as_matrix().astype(float)\n",
      "\n",
      "# Convert labels\n",
      "from sklearn.preprocessing import MultiLabelBinarizer\n",
      "label_binarizer = MultiLabelBinarizer()\n",
      "labelnames = dict((n,i) for i,n in enumerate(df.__LABEL__.unique()))\n",
      "y = array(df.__LABEL__.map(lambda s: labelnames[s]))"
     ],
     "language": "python",
     "metadata": {},
     "outputs": [],
     "prompt_number": 61
    },
    {
     "cell_type": "code",
     "collapsed": false,
     "input": [
      "X.shape"
     ],
     "language": "python",
     "metadata": {},
     "outputs": [
      {
       "metadata": {},
       "output_type": "pyout",
       "prompt_number": 64,
       "text": [
        "(1000, 6)"
       ]
      }
     ],
     "prompt_number": 64
    },
    {
     "cell_type": "code",
     "collapsed": false,
     "input": [
      "y.shape"
     ],
     "language": "python",
     "metadata": {},
     "outputs": [
      {
       "metadata": {},
       "output_type": "pyout",
       "prompt_number": 65,
       "text": [
        "(1000,)"
       ]
      }
     ],
     "prompt_number": 65
    },
    {
     "cell_type": "code",
     "collapsed": false,
     "input": [],
     "language": "python",
     "metadata": {},
     "outputs": []
    }
   ],
   "metadata": {}
  }
 ]
}