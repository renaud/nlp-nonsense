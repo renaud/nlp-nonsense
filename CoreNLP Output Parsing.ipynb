{
 "metadata": {
  "name": "",
  "signature": "sha256:498d76231808b4002bd401ad7185a113e07f46cf8f0227bfaabcdd62e96d32c6"
 },
 "nbformat": 3,
 "nbformat_minor": 0,
 "worksheets": [
  {
   "cells": [
    {
     "cell_type": "code",
     "collapsed": false,
     "input": [
      "import sys, os, re, json\n",
      "import collections\n",
      "%pylab inline\n",
      "import pandas as pd"
     ],
     "language": "python",
     "metadata": {},
     "outputs": [
      {
       "output_type": "stream",
       "stream": "stdout",
       "text": [
        "Populating the interactive namespace from numpy and matplotlib\n"
       ]
      }
     ],
     "prompt_number": 1
    },
    {
     "cell_type": "code",
     "collapsed": false,
     "input": [
      "import xml_loader\n",
      "reload(xml_loader)\n",
      "\n",
      "sentences = xml_loader.load_coreNLP_annotations(\"data/annotations-111214/test.txt.xml\")"
     ],
     "language": "python",
     "metadata": {},
     "outputs": [],
     "prompt_number": 3
    },
    {
     "cell_type": "code",
     "collapsed": false,
     "input": [
      "print sentences[0].get_text()"
     ],
     "language": "python",
     "metadata": {},
     "outputs": [
      {
       "output_type": "stream",
       "stream": "stdout",
       "text": [
        "Shares of RIM 's Playbook Make Melt Destroy S7 is designed different from our competitors , so the S7 is not a tablet PC works only Android but he 's also there is also a function of his phone .\n"
       ]
      }
     ],
     "prompt_number": 4
    },
    {
     "cell_type": "code",
     "collapsed": false,
     "input": [],
     "language": "python",
     "metadata": {},
     "outputs": []
    }
   ],
   "metadata": {}
  }
 ]
}